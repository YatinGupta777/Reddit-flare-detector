{
 "cells": [
  {
   "cell_type": "code",
   "execution_count": 32,
   "metadata": {},
   "outputs": [],
   "source": [
    "#!/Users/yatingupta/env/bin/python\n",
    "import sys\n",
    "sys.path.append(\"/Users/yatingupta/Github/Reddit-flare-detector/env/lib/python3.7/site-packages\")"
   ]
  },
  {
   "cell_type": "code",
   "execution_count": 11,
   "metadata": {},
   "outputs": [],
   "source": [
    "#https://www.labnol.org/internet/web-scraping-reddit/28369/ [Can be used if more tha 1000 posts are required]"
   ]
  },
  {
   "cell_type": "code",
   "execution_count": 34,
   "metadata": {},
   "outputs": [],
   "source": [
    "import praw\n",
    "import pandas as pd"
   ]
  },
  {
   "cell_type": "code",
   "execution_count": 35,
   "metadata": {},
   "outputs": [],
   "source": [
    "my_client_id = \"tlaYd7tsDOqvlQ\"\n",
    "my_client_secret = \"xdRqwLkA07r8ScyJZTMsYUndrSA\"\n",
    "my_user_agent = \"scrapping r/india\""
   ]
  },
  {
   "cell_type": "code",
   "execution_count": 36,
   "metadata": {},
   "outputs": [],
   "source": [
    "reddit = praw.Reddit(client_id=my_client_id, client_secret=my_client_secret, user_agent=my_user_agent)\n",
    "#https://github.com/reddit-archive/reddit/wiki/JSON"
   ]
  },
  {
   "cell_type": "code",
   "execution_count": 48,
   "metadata": {},
   "outputs": [],
   "source": [
    "posts = []\n",
    "india_subreddit = reddit.subreddit('India')\n",
    "for post in india_subreddit.hot(limit=100):\n",
    "    posts.append([post.title, post.score, post.id, post.subreddit, post.url, post.num_comments, post.selftext, post.created,post.link_flair_text])\n",
    "\n",
    "    "
   ]
  },
  {
   "cell_type": "code",
   "execution_count": 50,
   "metadata": {},
   "outputs": [
    {
     "name": "stdout",
     "output_type": "stream",
     "text": [
      "                                                title  score      id  \\\n",
      "0   Coronavirus (COVID-19) Megathread - News and U...    387  fqqdsg   \n",
      "1   A comprehensive look at Covid Surveillance and...    118  g0f72k   \n",
      "2   Today on the first day of Bengali calendar, wi...    606  g0xyg7   \n",
      "3          Breaking: National Lockdown extended May-3    303  g0z3a8   \n",
      "4   Anyone knows the OP of this gem? Some picture ...   1401  g0p9pd   \n",
      "..                                                ...    ...     ...   \n",
      "95                          Here's the real question.     44  g0mtjb   \n",
      "96  3 Arrested For Attacking Cops In Madhya Prades...     36  g0nl1g   \n",
      "97  Covid-19: Kamal Nath says lockdown was delayed...    435  g0bfmo   \n",
      "98  101 years of Jallianwala Bagh massacre | Backg...    256  g0dofi   \n",
      "99  Record 51 Deaths in 24 Hours Take India's Coro...     12  g0uwmc   \n",
      "\n",
      "   subreddit                                                url  num_comments  \\\n",
      "0      india  https://www.reddit.com/r/india/comments/fqqdsg...         10085   \n",
      "1      india  https://www.reddit.com/r/india/comments/g0f72k...             9   \n",
      "2      india                    https://i.imgur.com/wTH4IsY.jpg            38   \n",
      "3      india  https://twitter.com/LiveLawIndia/status/124992...           170   \n",
      "4      india                https://i.redd.it/inkpt9yaums41.jpg            37   \n",
      "..       ...                                                ...           ...   \n",
      "95     india  https://www.reddit.com/r/india/comments/g0mtjb...            23   \n",
      "96     india  https://www.ndtv.com/india-news/coronavirus-ma...             0   \n",
      "97     india  https://scroll.in/latest/958962/covid-19-kamal...            39   \n",
      "98     india  https://www.reddit.com/r/india/comments/g0dofi...            56   \n",
      "99     india  https://www.news18.com/news/india/record-51-de...             0   \n",
      "\n",
      "                                                 body       created  \\\n",
      "0   ###[Covid-19 Fundraisers & Donation Links](htt...  1.585451e+09   \n",
      "1   https://preview.redd.it/5vdy8f5stjs41.png?widt...  1.586797e+09   \n",
      "2                                                      1.586864e+09   \n",
      "3                                                      1.586868e+09   \n",
      "4                                                      1.586833e+09   \n",
      "..                                                ...           ...   \n",
      "95  If the government has 3000 fkn crores for the ...  1.586826e+09   \n",
      "96                                                     1.586828e+09   \n",
      "97                                                     1.586779e+09   \n",
      "98  ***\\*Picture thread attached at the bottom, pl...  1.586789e+09   \n",
      "99                                                     1.586852e+09   \n",
      "\n",
      "             flare  \n",
      "0      Coronavirus  \n",
      "1   Policy/Economy  \n",
      "2    Non-Political  \n",
      "3         Politics  \n",
      "4    Non-Political  \n",
      "..             ...  \n",
      "95     Coronavirus  \n",
      "96     Coronavirus  \n",
      "97     Coronavirus  \n",
      "98   Non-Political  \n",
      "99     Coronavirus  \n",
      "\n",
      "[100 rows x 9 columns]\n"
     ]
    }
   ],
   "source": [
    "posts = pd.DataFrame(posts,columns=['title', 'score', 'id', 'subreddit', 'url', 'num_comments', 'body', 'created','flare'])\n",
    "print(posts)"
   ]
  },
  {
   "cell_type": "code",
   "execution_count": null,
   "metadata": {},
   "outputs": [],
   "source": []
  }
 ],
 "metadata": {
  "kernelspec": {
   "display_name": "Python 3",
   "language": "python",
   "name": "python3"
  },
  "language_info": {
   "codemirror_mode": {
    "name": "ipython",
    "version": 3
   },
   "file_extension": ".py",
   "mimetype": "text/x-python",
   "name": "python",
   "nbconvert_exporter": "python",
   "pygments_lexer": "ipython3",
   "version": "3.7.4"
  }
 },
 "nbformat": 4,
 "nbformat_minor": 4
}

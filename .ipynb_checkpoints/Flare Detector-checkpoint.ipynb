{
 "cells": [
  {
   "cell_type": "code",
   "execution_count": 15,
   "metadata": {},
   "outputs": [],
   "source": [
    "#Necessary libraries\n",
    "import praw\n",
    "import pandas as pd\n",
    "import matplotlib\n",
    "import matplotlib.pyplot as plt\n",
    "import string\n",
    "import re\n",
    "import nltk\n",
    "from nltk.tokenize import word_tokenize\n",
    "from nltk.stem import PorterStemmer    \n",
    "from nltk.corpus import stopwords\n",
    "import collections\n",
    "set(stopwords.words('english'))\n",
    "ps = PorterStemmer() "
   ]
  },
  {
   "cell_type": "code",
   "execution_count": 18,
   "metadata": {},
   "outputs": [],
   "source": [
    "#Downloading lib\n",
    "#nltk.download('punkt')\n",
    "#nltk.download('stopwords')"
   ]
  },
  {
   "cell_type": "code",
   "execution_count": 19,
   "metadata": {},
   "outputs": [],
   "source": [
    "#Id to scrape\n",
    "my_client_id = \"tlaYd7tsDOqvlQ\"\n",
    "my_client_secret = \"xdRqwLkA07r8ScyJZTMsYUndrSA\"\n",
    "my_user_agent = \"scrapping r/india\""
   ]
  },
  {
   "cell_type": "code",
   "execution_count": 20,
   "metadata": {},
   "outputs": [],
   "source": [
    "#Helper function to print full panda data frame to analyze data\n",
    "def print_full(x):\n",
    "    pd.set_option('display.max_rows', len(x))\n",
    "    pd.set_option('display.max_colwidth', 950)\n",
    "    print(x)\n",
    "    pd.reset_option('display.max_rows')\n",
    "    pd.reset_option('display.max_colwidth')"
   ]
  },
  {
   "cell_type": "code",
   "execution_count": 21,
   "metadata": {},
   "outputs": [],
   "source": [
    "# API to access reddit data\n",
    "reddit = praw.Reddit(client_id=my_client_id, client_secret=my_client_secret, user_agent=my_user_agent)\n",
    "india_subreddit = reddit.subreddit('India')"
   ]
  },
  {
   "cell_type": "markdown",
   "metadata": {},
   "source": [
    "## Data Collection\n",
    "<ul>\n",
    "    <li>Getting TOP, HOT and NEW posts of reddit using the praw API </li>\n",
    "    <li>Many JSON tags are retrived which may or may not be used in future </li>\n",
    "    <li>https://github.com/reddit-archive/reddit/wiki/JSON used to study the tags </li>\n",
    "    <li>This is done to get all the types of posts and not be trained on only one type. Also increases training data</li>\n",
    "</ul>"
   ]
  },
  {
   "cell_type": "code",
   "execution_count": null,
   "metadata": {},
   "outputs": [],
   "source": [
    "top_posts = []\n",
    "for post in india_subreddit.top(limit=1000):\n",
    "    top_posts.append([post.title, post.score, post.id, post.subreddit, post.url, post.num_comments, post.selftext, post.created,post.link_flair_text])\n",
    "\n",
    "hot_posts = []\n",
    "for post in india_subreddit.hot(limit=1000):\n",
    "    hot_posts.append([post.title, post.score, post.id, post.subreddit, post.url, post.num_comments, post.selftext, post.created,post.link_flair_text])\n",
    "\n",
    "\n",
    "new_posts = []\n",
    "for post in india_subreddit.new(limit=1000):\n",
    "    new_posts.append([post.title, post.score, post.id, post.subreddit, post.url, post.num_comments, post.selftext, post.created,post.link_flair_text])\n"
   ]
  },
  {
   "cell_type": "markdown",
   "metadata": {},
   "source": [
    "## Exploratory Data Analysis"
   ]
  },
  {
   "cell_type": "markdown",
   "metadata": {},
   "source": [
    "<ul>\n",
    "    <li>Converting the data obtained into data frames for analyzing and combining the three types of data with duplicates removed</li>\n",
    "    <li>Adding a text column that is title + body</li>\n",
    "    <li>Removing NONE instances</li>\n",
    "</ul>    "
   ]
  },
  {
   "cell_type": "code",
   "execution_count": null,
   "metadata": {},
   "outputs": [],
   "source": [
    "top_posts = pd.DataFrame(top_posts,columns=['title', 'score', 'id', 'subreddit', 'url', 'num_comments', 'body', 'created','flare'])\n",
    "hot_posts = pd.DataFrame(hot_posts,columns=['title', 'score', 'id', 'subreddit', 'url', 'num_comments', 'body', 'created','flare'])\n",
    "new_posts = pd.DataFrame(new_posts,columns=['title', 'score', 'id', 'subreddit', 'url', 'num_comments', 'body', 'created','flare'])\n",
    "\n",
    "frames = [top_posts, hot_posts, new_posts]\n",
    "data = pd.concat(frames)\n",
    "data.drop_duplicates(keep='last',inplace=True)\n",
    "data['text'] = data['title'].str.cat(data['body'], sep =\" \")\n",
    "data = data.mask(data.eq('None')).dropna()\n",
    "data.describe()"
   ]
  },
  {
   "cell_type": "markdown",
   "metadata": {},
   "source": [
    "#### Here we analyze the division of count of posts in respective flares\n",
    "This will tell how many and which flares are prominent"
   ]
  },
  {
   "cell_type": "code",
   "execution_count": null,
   "metadata": {},
   "outputs": [],
   "source": [
    "data['flare'].value_counts()"
   ]
  },
  {
   "cell_type": "code",
   "execution_count": null,
   "metadata": {},
   "outputs": [],
   "source": [
    "ax, fig = plt.subplots(figsize=(10, 7))\n",
    "flare_class = data[\"flare\"].value_counts()\n",
    "flare_class.plot(kind= 'bar')\n",
    "plt.title('Count of different flares')\n",
    "plt.show()"
   ]
  },
  {
   "cell_type": "markdown",
   "metadata": {},
   "source": [
    "### Analyzing the word cloud of the four main Flares - Coronavirus, non-political, politics, askindia\n",
    "This is done to visualize which words are more used wrt flares"
   ]
  },
  {
   "cell_type": "code",
   "execution_count": null,
   "metadata": {},
   "outputs": [],
   "source": [
    "from wordcloud import WordCloud\n",
    "stop_words = stopwords.words(\"english\")\n",
    "\n",
    "Coronavirus = data[data[\"flare\"] == \"Coronavirus\"]\n",
    "Non_Political = data[data[\"flare\"] == \"Non-Political\"]\n",
    "Politics = data[data[\"flare\"] == \"Politics\"]\n",
    "AskIndia = data[data[\"flare\"] == \"AskIndia\"]\n",
    "\n",
    "Coronavirus_words = ''\n",
    "Non_Political_words = ''\n",
    "Politics_words = ''\n",
    "AskIndia_words = ''\n",
    "\n",
    "#Extracting words wrt flares\n",
    "\n",
    "for t in Coronavirus.text:\n",
    "    text = t.lower()\n",
    "    tokens = word_tokenize(text)\n",
    "    for w in tokens:\n",
    "        Coronavirus_words = Coronavirus_words + w + ' '\n",
    "        \n",
    "for t in Non_Political.text:\n",
    "    text = t.lower()\n",
    "    tokens = word_tokenize(text)\n",
    "    for w in tokens:\n",
    "        Non_Political_words = Non_Political_words + w + ' '\n",
    "        \n",
    "for t in Politics.text:\n",
    "    text = t.lower()\n",
    "    tokens = word_tokenize(text)\n",
    "    for w in tokens:\n",
    "        Politics_words = Politics_words + w + ' '\n",
    "        \n",
    "for t in AskIndia.text:\n",
    "    text = t.lower()\n",
    "    tokens = word_tokenize(text)\n",
    "    for w in tokens:\n",
    "        AskIndia_words = AskIndia_words + w + ' '        \n"
   ]
  },
  {
   "cell_type": "markdown",
   "metadata": {},
   "source": [
    "#### Coronavirus Wordcloud"
   ]
  },
  {
   "cell_type": "code",
   "execution_count": null,
   "metadata": {},
   "outputs": [],
   "source": [
    "# Generate a word cloud image\n",
    "wordcloud = WordCloud(width=600, height=400).generate(Coronavirus_words)\n",
    "#Insincere Word cloud\n",
    "plt.figure( figsize=(10,8), facecolor='k')\n",
    "plt.imshow(wordcloud)\n",
    "plt.axis(\"off\")\n",
    "plt.tight_layout(pad=0)\n",
    "plt.show()"
   ]
  },
  {
   "cell_type": "markdown",
   "metadata": {},
   "source": [
    "#### Non-politcal Word Cloud"
   ]
  },
  {
   "cell_type": "code",
   "execution_count": null,
   "metadata": {},
   "outputs": [],
   "source": [
    "# Generate a word cloud image\n",
    "wordcloud = WordCloud(width=600, height=400).generate(Non_Political_words)\n",
    "#Insincere Word cloud\n",
    "plt.figure( figsize=(10,8), facecolor='k')\n",
    "plt.imshow(wordcloud)\n",
    "plt.axis(\"off\")\n",
    "plt.tight_layout(pad=0)\n",
    "plt.show()"
   ]
  },
  {
   "cell_type": "markdown",
   "metadata": {},
   "source": [
    "#### Politics words Word Cloud"
   ]
  },
  {
   "cell_type": "code",
   "execution_count": null,
   "metadata": {},
   "outputs": [],
   "source": [
    "# Generate a word cloud image\n",
    "wordcloud = WordCloud(width=600, height=400).generate(Politics_words)\n",
    "#Insincere Word cloud\n",
    "plt.figure( figsize=(10,8), facecolor='k')\n",
    "plt.imshow(wordcloud)\n",
    "plt.axis(\"off\")\n",
    "plt.tight_layout(pad=0)\n",
    "plt.show()"
   ]
  },
  {
   "cell_type": "markdown",
   "metadata": {},
   "source": [
    "#### Ask India words, Word Cloud"
   ]
  },
  {
   "cell_type": "code",
   "execution_count": null,
   "metadata": {},
   "outputs": [],
   "source": [
    "# Generate a word cloud image\n",
    "wordcloud = WordCloud(width=600, height=400).generate(AskIndia_words)\n",
    "#Insincere Word cloud\n",
    "plt.figure( figsize=(10,8), facecolor='k')\n",
    "plt.imshow(wordcloud)\n",
    "plt.axis(\"off\")\n",
    "plt.tight_layout(pad=0)\n",
    "plt.show()"
   ]
  },
  {
   "cell_type": "markdown",
   "metadata": {},
   "source": [
    "### Comparison of length of posts and number of words used in different flare posts"
   ]
  },
  {
   "cell_type": "code",
   "execution_count": null,
   "metadata": {},
   "outputs": [],
   "source": [
    "Coronavirus[\"post_length\"] = Coronavirus.text.apply(lambda x: len(x))\n",
    "Non_Political[\"post_length\"] = Non_Political.text.apply(lambda x: len(x))\n",
    "\n",
    "Coronavirus['number_words'] = Coronavirus.text.apply(lambda x: len(x.split()))\n",
    "Non_Political['number_words'] = Non_Political.text.apply(lambda x: len(x.split()))\n",
    "\n",
    "print(\"Mean Length of Coronavirus Posts \" + str(Coronavirus[\"post_length\"].mean()))\n",
    "print(\"Mean Length of Non Political Posts \"  + str(Non_Political[\"post_length\"].mean()))\n",
    "print(\"Mean word usage of Coronavirus Posts \"  + str(Coronavirus['number_words'].mean()))\n",
    "print(\"Mean word usage of Non Political Posts \"  + str(Non_Political['number_words'].mean()))\n"
   ]
  },
  {
   "cell_type": "markdown",
   "metadata": {},
   "source": [
    "## Building the Flare Detector"
   ]
  },
  {
   "cell_type": "markdown",
   "metadata": {},
   "source": [
    "Helper Function to build confusion matrix"
   ]
  },
  {
   "cell_type": "code",
   "execution_count": null,
   "metadata": {},
   "outputs": [],
   "source": [
    "def plot_confusion_matrix(cm, classes,\n",
    "                          normalize=False,\n",
    "                          title='Confusion matrix',\n",
    "                          cmap=plt.cm.Blues):\n",
    "    \"\"\"\n",
    "    This function prints and plots the confusion matrix.\n",
    "    Normalization can be applied by setting `normalize=True`.\n",
    "    \"\"\"\n",
    "    import itertools\n",
    "    if normalize:\n",
    "        cm = cm.astype('float') / cm.sum(axis=1)[:, np.newaxis]\n",
    "        print(\"Normalized confusion matrix\")\n",
    "    else:\n",
    "        print('Confusion matrix, without normalization')\n",
    "\n",
    "    plt.imshow(cm, interpolation='nearest', cmap=cmap)\n",
    "    plt.title(title)\n",
    "    plt.colorbar()\n",
    "    tick_marks = np.arange(len(classes))\n",
    "    plt.xticks(tick_marks, classes, rotation=45)\n",
    "    plt.yticks(tick_marks, classes)\n",
    "\n",
    "    fmt = '.2f' if normalize else 'd'\n",
    "    thresh = cm.max() / 2.\n",
    "    for i, j in itertools.product(range(cm.shape[0]), range(cm.shape[1])):\n",
    "        plt.text(j, i, format(cm[i, j], fmt),\n",
    "                 horizontalalignment=\"center\",\n",
    "                 color=\"white\" if cm[i, j] > thresh else \"black\")\n",
    "\n",
    "    plt.ylabel('True label')\n",
    "    plt.xlabel('Predicted label')\n",
    "    plt.tight_layout()"
   ]
  },
  {
   "cell_type": "markdown",
   "metadata": {},
   "source": [
    "### Data Collection\n",
    "<ul>\n",
    "    <li> The required data here is extracted from data collected earlier </li>\n",
    "    <li> The TOP, HOT and NEW posts are concatenated in frame </li>\n",
    "    <li> duplicates are removed </li>\n",
    "</ul>    "
   ]
  },
  {
   "cell_type": "code",
   "execution_count": null,
   "metadata": {},
   "outputs": [],
   "source": [
    "top_text_flare_data = top_posts[['id','title','body','flare']]\n",
    "hot_text_flare_data = hot_posts[['id','title','body','flare']]\n",
    "new_text_flare_data = new_posts[['id','title','body','flare']]\n",
    "\n",
    "frames = [top_text_flare_data, hot_text_flare_data, new_text_flare_data]\n",
    "data = pd.concat(frames)\n",
    "data.drop_duplicates(keep='last',inplace=True)\n",
    "data.describe()"
   ]
  },
  {
   "cell_type": "markdown",
   "metadata": {},
   "source": [
    "# Part I\n",
    "Here around 15 flares are considered"
   ]
  },
  {
   "cell_type": "markdown",
   "metadata": {},
   "source": [
    "### Since the number of flare was large (40), all the flares with less than 3 posts are deleted here.\n",
    "<ul>\n",
    "<li>This is done since having large number of flares reduced the accuracy if test dataset on splitting only had the lower ones.</li>\n",
    "<li>Also model is able to predict only the most prominent ones due to less data. </li>\n",
    "<li>Creating a text column which concatenates the title and body text </li>\n",
    "<li> ALL the rows with NONE data are removed </li>\n",
    "</ul>"
   ]
  },
  {
   "cell_type": "code",
   "execution_count": null,
   "metadata": {},
   "outputs": [],
   "source": [
    "data = data.groupby('flare').filter(lambda x : len(x)>3)\n",
    "data['text'] = data['title'].str.cat(data['body'], sep =\" \")\n",
    "data = data.mask(data.eq('None')).dropna()\n",
    "data.describe()"
   ]
  },
  {
   "cell_type": "markdown",
   "metadata": {},
   "source": [
    "#### Preprocessing the data\n",
    "<ul>\n",
    "    <li>Creating regex emoji pattern to remove emojis</li>\n",
    "    <li> All strings are lowered </li>\n",
    "    <li> Punctuation, whitespaces,links are removed</li>\n",
    "    <li> Stop words are removed and words are stemmed</li>\n",
    "    <li> Finally it contains list of strings where each word is stemmed and cleaned</li>\n",
    "</ul>"
   ]
  },
  {
   "cell_type": "code",
   "execution_count": null,
   "metadata": {},
   "outputs": [],
   "source": [
    "emoji_pattern = re.compile(\"[\"\n",
    "                       u\"\\U0001F600-\\U0001F64F\"  # emoticons\n",
    "                       u\"\\U0001F300-\\U0001F5FF\"  # symbols & pictographs\n",
    "                       u\"\\U0001F680-\\U0001F6FF\"  # transport & map symbols\n",
    "                       u\"\\U0001F1E0-\\U0001F1FF\"  # flags (iOS)\n",
    "                       u\"\\U00002702-\\U000027B0\"\n",
    "                       u\"\\U000024C2-\\U0001F251\"\n",
    "                       \"]+\", flags=re.UNICODE)\n",
    "\n",
    "data['text'] = (data['text'].str.lower() #lowercase\n",
    "                           .str.replace(r'[^\\w\\s]+', '') #rem punctuation \n",
    "                           .str.replace(emoji_pattern, '') #rem emoji\n",
    "                           .str.replace(r'http\\S+','') #rem links\n",
    "                           .str.strip() #rem trailing whitespaces\n",
    "                           .str.split()) #split by whitespaces\n",
    "\n",
    "res = []\n",
    "stop_words = set(stopwords.words('english')) \n",
    "\n",
    "for i in data['text']:\n",
    "    t = \"\"\n",
    "    for j in i:\n",
    "        if j not in stop_words:\n",
    "            w = ps.stem(j)\n",
    "            t += w\n",
    "            t += \" \"\n",
    "    res.append(t)\n",
    "data['text'] = res"
   ]
  },
  {
   "cell_type": "markdown",
   "metadata": {},
   "source": [
    "Split the dataset into training and validation datasets \n"
   ]
  },
  {
   "cell_type": "code",
   "execution_count": null,
   "metadata": {},
   "outputs": [],
   "source": [
    "from sklearn import model_selection\n",
    "from sklearn.preprocessing import LabelEncoder\n",
    "from sklearn.metrics import accuracy_score\n",
    "from sklearn.feature_extraction.text import TfidfVectorizer\n",
    "\n",
    "train_x, test_x, train_y, test_y = model_selection.train_test_split(data['text'], data['flare'],test_size=0.3)\n",
    "\n",
    "# X = the entire text data , Y = entire target or flares\n",
    "X = data['text']\n",
    "Y = data['flare']\n",
    "\n",
    "encoder = preprocessing.LabelEncoder()\n",
    "\n",
    "# label encode the target variable \n",
    "Y = encoder.fit_transform(Y)\n",
    "train_y = encoder.transform(train_y)\n",
    "test_y = encoder.transform(test_y)\n"
   ]
  },
  {
   "cell_type": "markdown",
   "metadata": {},
   "source": [
    "Converting the words to vectors using Tfidf to be used for ML algos"
   ]
  },
  {
   "cell_type": "code",
   "execution_count": null,
   "metadata": {},
   "outputs": [],
   "source": [
    "Tfidf_vect = TfidfVectorizer(max_features=5000)\n",
    "Tfidf_vect.fit(data['text'])\n",
    "Train_X_Tfidf = Tfidf_vect.transform(train_x)\n",
    "Test_X_Tfidf = Tfidf_vect.transform(test_x)\n",
    "X = Tfidf_vect.transform(X)"
   ]
  },
  {
   "cell_type": "code",
   "execution_count": null,
   "metadata": {},
   "outputs": [],
   "source": [
    "np.random.seed(500)"
   ]
  },
  {
   "cell_type": "markdown",
   "metadata": {},
   "source": [
    "### Calculating Accuracy of different ML algo"
   ]
  },
  {
   "cell_type": "markdown",
   "metadata": {},
   "source": [
    "#### Naive Bayes"
   ]
  },
  {
   "cell_type": "code",
   "execution_count": null,
   "metadata": {},
   "outputs": [],
   "source": [
    "from sklearn import naive_bayes\n",
    "# fit the training dataset on the NB classifier\n",
    "Naive = naive_bayes.MultinomialNB()\n",
    "Naive.fit(Train_X_Tfidf,train_y)\n",
    "# predict the labels on validation dataset\n",
    "predictions_NB = Naive.predict(Test_X_Tfidf)\n",
    "# Use accuracy_score function to get the accuracy\n",
    "accuracy_naive = accuracy_score(predictions_NB, test_y)*100\n",
    "\n",
    "print(\"Naive Bayes Accuracy Score -> \",accuracy_score(predictions_NB, test_y)*100)"
   ]
  },
  {
   "cell_type": "markdown",
   "metadata": {},
   "source": [
    "#### SVM"
   ]
  },
  {
   "cell_type": "code",
   "execution_count": null,
   "metadata": {},
   "outputs": [],
   "source": [
    "from sklearn import svm\n",
    "# fit the training dataset on the classifier\n",
    "SVM = svm.SVC(C=1.0, kernel='linear', degree=3, gamma='auto')\n",
    "SVM.fit(Train_X_Tfidf,train_y)\n",
    "# predict the labels on validation dataset\n",
    "predictions_SVM = SVM.predict(Test_X_Tfidf)\n",
    "# Use accuracy_score function to get the accuracy\n",
    "accuracy_SVM = accuracy_score(predictions_SVM, test_y)*100\n",
    "print(\"SVM Accuracy Score -> \",accuracy_score(predictions_SVM, test_y)*100)"
   ]
  },
  {
   "cell_type": "markdown",
   "metadata": {},
   "source": [
    "#### Random Forest Classifier"
   ]
  },
  {
   "cell_type": "code",
   "execution_count": null,
   "metadata": {},
   "outputs": [],
   "source": [
    "from sklearn import ensemble\n",
    "random_forest_classfier = ensemble.RandomForestClassifier()\n",
    "random_forest_classfier.fit(Train_X_Tfidf,train_y)\n",
    "predictions_RF = random_forest_classfier.predict(Test_X_Tfidf)\n",
    "# Use accuracy_score function to get the accuracy\n",
    "accuracy_rfc = accuracy_score(predictions_RF, test_y)*100\n",
    "print(\"RF Accuracy Score -> \",accuracy_score(predictions_RF, test_y)*100)"
   ]
  },
  {
   "cell_type": "markdown",
   "metadata": {},
   "source": [
    "#### SGDClassifier \n",
    "linear classifier optimized by the SGD."
   ]
  },
  {
   "cell_type": "code",
   "execution_count": null,
   "metadata": {},
   "outputs": [],
   "source": [
    "from sklearn.linear_model import SGDClassifier\n",
    "sgd = SGDClassifier(loss='hinge', penalty='l2',alpha=1e-3, random_state=42, max_iter=5, tol=None)\n",
    "sgd.fit(Train_X_Tfidf,train_y)\n",
    "# predict the labels on validation dataset\n",
    "predictions_sgd = sgd.predict(Test_X_Tfidf)\n",
    "# Use accuracy_score function to get the accuracy\n",
    "accuracy_sgd = accuracy_score(predictions_sgd, test_y)*100\n",
    "print(\"SGD Accuracy Score -> \",accuracy_score(predictions_sgd, test_y)*100)"
   ]
  },
  {
   "cell_type": "markdown",
   "metadata": {},
   "source": [
    "#### LogisticRegression"
   ]
  },
  {
   "cell_type": "code",
   "execution_count": null,
   "metadata": {},
   "outputs": [],
   "source": [
    "from sklearn.linear_model import LogisticRegression\n",
    "Logistic_Regression = LogisticRegression(n_jobs=1, C=1e5,max_iter=2000)\n",
    "Logistic_Regression.fit(Train_X_Tfidf,train_y)\n",
    "# predict the labels on validation dataset\n",
    "predictions_Logistic_Regression = Logistic_Regression.predict(Test_X_Tfidf)\n",
    "# Use accuracy_score function to get the accuracy\n",
    "accuracy_lr = accuracy_score(predictions_Logistic_Regression, test_y)*100\n",
    "print(\"Logistic_Regression Accuracy Score -> \",accuracy_score(predictions_Logistic_Regression, test_y)*100)"
   ]
  },
  {
   "cell_type": "markdown",
   "metadata": {},
   "source": [
    "### Accuracy Comparison"
   ]
  },
  {
   "cell_type": "code",
   "execution_count": null,
   "metadata": {},
   "outputs": [],
   "source": [
    "model_prediction = [accuracy_naive,accuracy_SVM,accuracy_rfc,accuracy_sgd,accuracy_lr]\n",
    "model_names = [\"Naive\",\"SVM\",\"random_forest_classfier\",\"sgd\",\"Logistic_Regression\"]\n",
    "for i in range(0,len(models)):\n",
    "    print(\"Accuracy by \" + model_names[i] + \" = \" + str(model_prediction[i]) + \"%\")"
   ]
  },
  {
   "cell_type": "code",
   "execution_count": null,
   "metadata": {},
   "outputs": [],
   "source": [
    "\"\"\"\"\n",
    "kfold = model_selection.KFold(n_splits=10)\n",
    "model = ensemble.RandomForestClassifier()\n",
    "results = model_selection.cross_val_score(model, X, Y, cv=kfold)\n",
    "print(\"Accuracy: %.3f%% (%.3f%%)\" % (results.mean()*100.0, results.std()*100.0))\n",
    "\"\"\"\"\""
   ]
  },
  {
   "cell_type": "markdown",
   "metadata": {},
   "source": [
    "#### Testing on Manual Examples\n",
    "below example list is created on which the models will predict the flare"
   ]
  },
  {
   "cell_type": "code",
   "execution_count": null,
   "metadata": {},
   "outputs": [],
   "source": [
    "example_list = np.array([\"Stuck in quarantine. Playing games all day\",\"This. virus is killing me\",\"Government of India needs to take action \",\"All the political ministers need to work for india\"])\n",
    "Example = pd.Series(example_list)\n",
    "Example = (Example.str.lower() #lowercase\n",
    "                           .str.replace(r'[^\\w\\s]+', '') #rem punctuation \n",
    "                           .str.replace(emoji_pattern, '') #rem emoji\n",
    "                           .str.replace(r'http\\S+','') #rem links\n",
    "                           .str.strip() #rem trailing whitespaces\n",
    "                           .str.split()) #split by whitespaces\n",
    "res = []\n",
    "stop_words = set(stopwords.words('english')) \n",
    "\n",
    "for i in Example:\n",
    "    t = \"\"\n",
    "    for j in i:\n",
    "        if j not in stop_words:\n",
    "            w = ps.stem(j)\n",
    "            t += w\n",
    "            t += \" \"\n",
    "    res.append(t)\n",
    "Example = res\n",
    "Example_Tfidf = Tfidf_vect.transform(Example)"
   ]
  },
  {
   "cell_type": "code",
   "execution_count": null,
   "metadata": {},
   "outputs": [],
   "source": [
    "models = [Naive,SVM,random_forest_classfier,sgd,Logistic_Regression]\n",
    "for i in range(0,len(models)):\n",
    "    model = models[i]\n",
    "    predict_example = model.predict(Example_Tfidf)\n",
    "    print(\"Predictions by \" + model_names[i])\n",
    "    print(encoder.inverse_transform(predict_example))\n"
   ]
  },
  {
   "cell_type": "markdown",
   "metadata": {},
   "source": [
    "#### Building a confusion matrix to analyze the results from the best classifier yet (sgd) "
   ]
  },
  {
   "cell_type": "code",
   "execution_count": null,
   "metadata": {},
   "outputs": [],
   "source": [
    "from sklearn.metrics import confusion_matrix\n",
    "cm = confusion_matrix(test_y, predictions_sgd)\n",
    "\n",
    "plt.figure()\n",
    "plot_confusion_matrix(cm, classes=[],normalize=True,\n",
    "                      title='Confusion matrix, without normalization')"
   ]
  },
  {
   "cell_type": "markdown",
   "metadata": {},
   "source": [
    "# Part II\n",
    "Since most of the cm is 0 or very less values here the dataset is reduced"
   ]
  },
  {
   "cell_type": "markdown",
   "metadata": {},
   "source": [
    "#### Helper function to get accuracy from all the ML models which were defined as above"
   ]
  },
  {
   "cell_type": "code",
   "execution_count": 55,
   "metadata": {},
   "outputs": [],
   "source": [
    "def get_accuracy(Train_X_Tfidf,train_y,Test_X_Tfidf,test_y):\n",
    "    from sklearn import naive_bayes\n",
    "    # fit the training dataset on the NB classifier\n",
    "    Naive = naive_bayes.MultinomialNB()\n",
    "    Naive.fit(Train_X_Tfidf,train_y)\n",
    "    # predict the labels on validation dataset\n",
    "    predictions_NB = Naive.predict(Test_X_Tfidf)\n",
    "    # Use accuracy_score function to get the accuracy\n",
    "    accuracy_naive = accuracy_score(predictions_NB, test_y)*100\n",
    "    print(\"Naive Bayes Accuracy Score -> \",accuracy_score(predictions_NB, test_y)*100)\n",
    "\n",
    "    from sklearn import svm\n",
    "    # fit the training dataset on the classifier\n",
    "    SVM = svm.SVC(C=1.0, kernel='linear', degree=3, gamma='auto')\n",
    "    SVM.fit(Train_X_Tfidf,train_y)\n",
    "    # predict the labels on validation dataset\n",
    "    predictions_SVM = SVM.predict(Test_X_Tfidf)\n",
    "    # Use accuracy_score function to get the accuracy\n",
    "    accuracy_SVM = accuracy_score(predictions_SVM, test_y)*100\n",
    "    print(\"SVM Accuracy Score -> \",accuracy_score(predictions_SVM, test_y)*100)\n",
    "\n",
    "    from sklearn import ensemble\n",
    "    random_forest_classfier = ensemble.RandomForestClassifier()\n",
    "    random_forest_classfier.fit(Train_X_Tfidf,train_y)\n",
    "    predictions_RF = random_forest_classfier.predict(Test_X_Tfidf)\n",
    "    # Use accuracy_score function to get the accuracy\n",
    "    accuracy_rfc = accuracy_score(predictions_RF, test_y)*100\n",
    "    print(\"RF Accuracy Score -> \",accuracy_score(predictions_RF, test_y)*100)\n",
    "\n",
    "    from sklearn.linear_model import LogisticRegression\n",
    "    Logistic_Regression = LogisticRegression(n_jobs=1, C=1e5,max_iter=2000)\n",
    "    Logistic_Regression.fit(Train_X_Tfidf,train_y)\n",
    "    # predict the labels on validation dataset\n",
    "    predictions_Logistic_Regression = Logistic_Regression.predict(Test_X_Tfidf)\n",
    "    # Use accuracy_score function to get the accuracy\n",
    "    accuracy_lr = accuracy_score(predictions_Logistic_Regression, test_y)*100\n",
    "    print(\"Logistic_Regression Accuracy Score -> \",accuracy_score(predictions_Logistic_Regression, test_y)*100)\n",
    "\n",
    "    from sklearn.linear_model import SGDClassifier\n",
    "    sgd = SGDClassifier(loss='hinge', penalty='l2',alpha=1e-3, random_state=42, max_iter=5, tol=None)\n",
    "    sgd.fit(Train_X_Tfidf,train_y)\n",
    "    # predict the labels on validation dataset\n",
    "    predictions_sgd = sgd.predict(Test_X_Tfidf)\n",
    "    # Use accuracy_score function to get the accuracy\n",
    "    accuracy_sgd = accuracy_score(predictions_sgd, test_y)*100\n",
    "    print(\"SGD Accuracy Score -> \",accuracy_score(predictions_sgd, test_y)*100)"
   ]
  },
  {
   "cell_type": "markdown",
   "metadata": {},
   "source": [
    "### Data is made again by using the scraped data, but here only flares with greater than 100 posts are used\n",
    "<ul>\n",
    "    <li>Data is cleaned and prepared</li>\n",
    "</ul>    "
   ]
  },
  {
   "cell_type": "code",
   "execution_count": null,
   "metadata": {},
   "outputs": [],
   "source": [
    "top_text_flare_data = top_posts[['id','title','body','flare']]\n",
    "hot_text_flare_data = hot_posts[['id','title','body','flare']]\n",
    "new_text_flare_data = new_posts[['id','title','body','flare']]\n",
    "\n",
    "frames = [top_text_flare_data, hot_text_flare_data, new_text_flare_data]\n",
    "data = pd.concat(frames)\n",
    "data.drop_duplicates(keep='last',inplace=True)\n",
    "data = data.groupby('flare').filter(lambda x : len(x)>100)\n",
    "\n",
    "data['text'] = data['title'].str.cat(data['body'], sep =\" \")\n",
    "data = data.mask(data.eq('None')).dropna()\n",
    "\n",
    "emoji_pattern = re.compile(\"[\"\n",
    "                       u\"\\U0001F600-\\U0001F64F\"  # emoticons\n",
    "                       u\"\\U0001F300-\\U0001F5FF\"  # symbols & pictographs\n",
    "                       u\"\\U0001F680-\\U0001F6FF\"  # transport & map symbols\n",
    "                       u\"\\U0001F1E0-\\U0001F1FF\"  # flags (iOS)\n",
    "                       u\"\\U00002702-\\U000027B0\"\n",
    "                       u\"\\U000024C2-\\U0001F251\"\n",
    "                       \"]+\", flags=re.UNICODE)\n",
    "\n",
    "data['text'] = (data['text'].str.lower() #lowercase\n",
    "                           .str.replace(r'[^\\w\\s]+', '') #rem punctuation \n",
    "                           .str.replace(emoji_pattern, '') #rem emoji\n",
    "                           .str.replace(r'http\\S+','') #rem links\n",
    "                           .str.strip() #rem trailing whitespaces\n",
    "                           .str.split()) #split by whitespaces\n",
    "\n",
    "res = []\n",
    "stop_words = set(stopwords.words('english')) \n",
    "\n",
    "for i in data['text']:\n",
    "    t = \"\"\n",
    "    for j in i:\n",
    "        if j not in stop_words:\n",
    "            w = ps.stem(j)\n",
    "            t += w\n",
    "            t += \" \"\n",
    "    res.append(t)\n",
    "data['text'] = res\n",
    "data['flare'].value_counts()"
   ]
  },
  {
   "cell_type": "markdown",
   "metadata": {},
   "source": [
    "#### Data obtained above is divided into train,test and vectorized /encoded"
   ]
  },
  {
   "cell_type": "code",
   "execution_count": null,
   "metadata": {},
   "outputs": [],
   "source": [
    "from sklearn import model_selection\n",
    "from sklearn.preprocessing import LabelEncoder\n",
    "from sklearn.metrics import accuracy_score\n",
    "from sklearn.feature_extraction.text import TfidfVectorizer\n",
    "\n",
    "train_x, test_x, train_y, test_y = model_selection.train_test_split(data['text'], data['flare'],test_size=0.3)\n",
    "\n",
    "# X = the entire text data , Y = entire target or flares\n",
    "X = data['text']\n",
    "Y = data['flare']\n",
    "\n",
    "encoder = preprocessing.LabelEncoder()\n",
    "\n",
    "# label encode the target variable \n",
    "Y = encoder.fit_transform(Y)\n",
    "train_y = encoder.transform(train_y)\n",
    "test_y = encoder.transform(test_y)\n",
    "Tfidf_vect = TfidfVectorizer(max_features=15000)\n",
    "Tfidf_vect.fit(data['text'])\n",
    "Train_X_Tfidf = Tfidf_vect.transform(train_x)\n",
    "Test_X_Tfidf = Tfidf_vect.transform(test_x)\n",
    "X = Tfidf_vect.transform(X)"
   ]
  },
  {
   "cell_type": "markdown",
   "metadata": {},
   "source": [
    "#### Accuracy is measured from this data"
   ]
  },
  {
   "cell_type": "code",
   "execution_count": null,
   "metadata": {},
   "outputs": [],
   "source": [
    "get_accuracy(Train_X_Tfidf,train_y,Test_X_Tfidf,test_y)"
   ]
  },
  {
   "cell_type": "markdown",
   "metadata": {},
   "source": [
    "#### Data is oversampled"
   ]
  },
  {
   "cell_type": "code",
   "execution_count": null,
   "metadata": {},
   "outputs": [],
   "source": [
    "from imblearn.over_sampling import SMOTE\n",
    "smote = SMOTE('minority')\n",
    "X_oversampled, Y_oversampled = smote.fit_resample(X, Y)\n",
    "Train_X_Tfidf_oversampled, Test_X_Tfidf_oversampled, train_y_oversampled, test_y_oversampled = model_selection.train_test_split(X_oversampled, Y_oversampled,test_size=0.3)"
   ]
  },
  {
   "cell_type": "markdown",
   "metadata": {},
   "source": [
    "#### Accuracy is measured from the oversampled data"
   ]
  },
  {
   "cell_type": "code",
   "execution_count": null,
   "metadata": {},
   "outputs": [],
   "source": [
    "get_accuracy(Train_X_Tfidf_oversampled,train_y_oversampled,Test_X_Tfidf_oversampled,test_y_oversampled)"
   ]
  },
  {
   "cell_type": "code",
   "execution_count": null,
   "metadata": {},
   "outputs": [],
   "source": [
    "from sklearn.metrics import confusion_matrix\n",
    "\n",
    "model = svm.SVC(C=1.0, kernel='linear', degree=3, gamma='auto')\n",
    "model.fit(Train_X_Tfidf_oversampled,train_y_oversampled)\n",
    "predictions_sgd = model.predict(Test_X_Tfidf_oversampled)\n",
    "cm = confusion_matrix(test_y_oversampled, predictions_sgd)\n",
    "plt.figure()\n",
    "plot_confusion_matrix(cm, classes=[],normalize=True,\n",
    "                      title='Confusion matrix, without normalization')"
   ]
  },
  {
   "cell_type": "markdown",
   "metadata": {},
   "source": [
    "### The confusion matrix indicates better values than previous one"
   ]
  },
  {
   "cell_type": "markdown",
   "metadata": {},
   "source": [
    "# Part III\n",
    "Increasing the amount of data by a large count"
   ]
  },
  {
   "cell_type": "markdown",
   "metadata": {},
   "source": [
    "### using the Pushshift data, reddit r/india is scrapped for 2 years data."
   ]
  },
  {
   "cell_type": "markdown",
   "metadata": {},
   "source": [
    "#### defining the helper function for API"
   ]
  },
  {
   "cell_type": "code",
   "execution_count": 30,
   "metadata": {},
   "outputs": [],
   "source": [
    "import requests\n",
    "import json\n",
    "import datetime\n",
    "\n",
    "def getPushshiftData(after, before, sub):\n",
    "    url = 'https://api.pushshift.io/reddit/search/submission/?size=1000&after='+str(after)+'&before='+str(before)+'&subreddit='+str(sub)\n",
    "   # print(url)\n",
    "    r = requests.get(url)\n",
    "    data = json.loads(r.text)\n",
    "    return data['data']"
   ]
  },
  {
   "cell_type": "markdown",
   "metadata": {},
   "source": [
    "## Here data is repeadtly scrapped in counts of 1000 posts from Jan 1 2018 to 10th April 2020.\n",
    "### Calls to reddit API after every 1000 posts as that is the limit\n",
    "#### This function takes a approx 10-20 minutes"
   ]
  },
  {
   "cell_type": "code",
   "execution_count": 32,
   "metadata": {},
   "outputs": [
    {
     "name": "stdout",
     "output_type": "stream",
     "text": [
      "2018-01-03 00:42:23\n",
      "2018-01-04 17:22:35\n",
      "2018-01-06 12:20:39\n",
      "2018-01-08 12:57:11\n",
      "2018-01-10 00:09:16\n",
      "2018-01-11 16:03:05\n",
      "2018-01-13 11:40:02\n",
      "2018-01-15 14:46:07\n",
      "2018-01-17 09:46:49\n",
      "2018-01-18 20:04:25\n",
      "2018-01-20 13:57:37\n",
      "2018-01-22 12:58:49\n",
      "2018-01-24 02:15:41\n",
      "2018-01-25 19:07:34\n",
      "2018-01-27 20:21:03\n",
      "2018-01-30 06:56:17\n",
      "2018-01-31 21:32:31\n",
      "2018-02-02 19:22:28\n",
      "2018-02-05 09:45:09\n",
      "2018-02-07 07:51:30\n",
      "2018-02-08 22:32:00\n",
      "2018-02-10 22:27:33\n",
      "2018-02-12 22:40:08\n",
      "2018-02-14 17:32:23\n",
      "2018-02-16 11:44:15\n",
      "2018-02-18 11:39:58\n",
      "2018-02-20 11:36:05\n",
      "2018-02-22 07:01:22\n",
      "2018-02-23 23:08:25\n",
      "2018-02-26 00:57:38\n",
      "2018-02-27 19:37:45\n",
      "2018-03-01 14:03:23\n",
      "2018-03-03 14:34:39\n",
      "2018-03-05 19:00:23\n",
      "2018-03-07 15:09:59\n",
      "2018-03-09 10:36:12\n",
      "2018-03-11 11:17:14\n",
      "2018-03-13 08:45:09\n",
      "2018-03-14 20:55:15\n",
      "2018-03-16 17:00:37\n",
      "2018-03-18 16:57:12\n",
      "2018-03-20 14:20:18\n",
      "2018-03-22 09:24:33\n",
      "2018-03-23 20:05:57\n",
      "2018-03-25 20:37:12\n",
      "2018-03-27 15:31:39\n",
      "2018-03-29 07:00:41\n",
      "2018-03-30 23:49:03\n",
      "2018-04-02 08:21:20\n",
      "2018-04-03 20:56:51\n",
      "2018-04-05 14:19:05\n",
      "2018-04-07 07:52:27\n",
      "2018-04-09 10:02:16\n",
      "2018-04-10 23:08:10\n",
      "2018-04-12 16:40:08\n",
      "2018-04-14 09:54:14\n",
      "2018-04-16 05:09:31\n",
      "2018-04-17 18:17:48\n",
      "2018-04-19 12:59:33\n",
      "2018-04-21 00:38:07\n",
      "2018-04-23 08:12:47\n",
      "2018-04-24 21:44:59\n",
      "2018-04-26 21:20:17\n",
      "2018-04-29 12:02:35\n",
      "2018-05-01 13:25:11\n",
      "2018-05-03 15:46:15\n",
      "2018-05-05 22:12:19\n",
      "2018-05-08 10:26:24\n",
      "2018-05-10 10:39:50\n",
      "2018-05-12 14:18:16\n",
      "2018-05-14 19:37:06\n",
      "2018-05-17 09:42:46\n",
      "2018-05-19 14:34:06\n",
      "2018-05-22 08:13:42\n",
      "2018-05-24 09:24:32\n",
      "2018-05-26 12:46:44\n",
      "2018-05-28 19:59:25\n",
      "2018-05-30 20:29:06\n",
      "2018-06-01 20:02:39\n",
      "2018-06-04 09:31:22\n",
      "2018-06-06 08:31:14\n",
      "2018-06-08 09:16:03\n",
      "2018-06-10 13:04:38\n",
      "2018-06-12 16:01:24\n",
      "2018-06-14 17:44:40\n",
      "2018-06-17 01:57:54\n",
      "2018-06-19 14:56:26\n",
      "2018-06-21 18:54:08\n",
      "2018-06-24 00:37:38\n",
      "2018-06-26 12:38:13\n",
      "2018-06-28 12:20:30\n",
      "2018-06-30 12:59:09\n",
      "2018-07-02 22:56:18\n",
      "2018-07-05 00:37:31\n",
      "2018-07-06 22:33:57\n",
      "2018-07-09 12:44:47\n",
      "2018-07-11 10:26:11\n",
      "2018-07-13 06:30:04\n",
      "2018-07-15 11:56:56\n",
      "2018-07-17 14:25:22\n",
      "2018-07-19 14:02:42\n",
      "2018-07-21 08:40:47\n",
      "2018-07-23 10:46:10\n",
      "2018-07-25 10:24:21\n",
      "2018-07-27 10:05:28\n",
      "2018-07-29 15:42:38\n",
      "2018-07-31 14:59:41\n",
      "2018-08-02 18:33:57\n",
      "2018-08-05 07:32:23\n",
      "2018-08-07 10:54:59\n",
      "2018-08-09 10:51:38\n",
      "2018-08-11 10:36:02\n",
      "2018-08-13 17:27:52\n",
      "2018-08-15 14:11:48\n",
      "2018-08-17 11:38:28\n",
      "2018-08-19 15:23:57\n",
      "2018-08-21 13:14:33\n",
      "2018-08-23 03:25:31\n",
      "2018-08-24 20:35:40\n",
      "2018-08-27 04:25:00\n",
      "2018-08-28 18:49:26\n",
      "2018-08-30 13:14:02\n",
      "2018-09-01 08:11:06\n",
      "2018-09-03 10:08:30\n",
      "2018-09-04 20:32:10\n",
      "2018-09-06 17:51:52\n",
      "2018-09-09 12:09:35\n",
      "2018-09-11 21:08:30\n",
      "2018-09-13 20:30:32\n",
      "2018-09-15 20:08:38\n",
      "2018-09-17 21:11:17\n",
      "2018-09-19 18:19:38\n",
      "2018-09-21 14:52:53\n",
      "2018-09-23 15:43:08\n",
      "2018-09-25 13:00:31\n",
      "2018-09-26 22:52:44\n",
      "2018-09-28 16:31:46\n",
      "2018-09-30 16:32:29\n",
      "2018-10-02 13:36:21\n",
      "2018-10-04 10:58:05\n",
      "2018-10-06 01:07:15\n",
      "2018-10-08 01:19:33\n",
      "2018-10-09 15:19:57\n",
      "2018-10-11 08:36:15\n",
      "2018-10-12 18:27:36\n",
      "2018-10-14 17:44:05\n",
      "2018-10-16 15:25:11\n",
      "2018-10-18 11:23:47\n",
      "2018-10-20 08:17:51\n",
      "2018-10-22 11:25:50\n",
      "2018-10-23 22:29:31\n",
      "2018-10-25 15:54:25\n",
      "2018-10-27 11:10:08\n",
      "2018-10-29 11:27:34\n",
      "2018-10-30 23:43:17\n",
      "2018-11-01 15:33:05\n",
      "2018-11-03 11:35:20\n",
      "2018-11-05 10:15:07\n",
      "2018-11-06 21:52:16\n",
      "2018-11-08 19:33:16\n",
      "2018-11-10 18:24:27\n",
      "2018-11-12 17:11:39\n",
      "2018-11-14 12:25:22\n",
      "2018-11-16 07:46:34\n",
      "2018-11-18 08:49:07\n",
      "2018-11-20 09:38:39\n",
      "2018-11-21 20:32:42\n",
      "2018-11-23 17:02:32\n",
      "2018-11-25 18:01:00\n",
      "2018-11-27 15:31:28\n",
      "2018-11-29 11:30:48\n",
      "2018-12-01 06:37:24\n",
      "2018-12-03 11:08:36\n",
      "2018-12-05 01:42:24\n",
      "2018-12-06 21:48:52\n",
      "2018-12-08 22:51:43\n",
      "2018-12-11 06:35:47\n",
      "2018-12-12 19:49:43\n",
      "2018-12-14 17:02:07\n",
      "2018-12-16 19:28:03\n",
      "2018-12-18 18:42:11\n",
      "2018-12-20 19:33:08\n",
      "2018-12-22 19:22:08\n",
      "2018-12-25 09:24:28\n",
      "2018-12-27 10:32:37\n",
      "2018-12-29 09:28:02\n",
      "2018-12-31 16:26:54\n",
      "2019-01-02 18:01:16\n",
      "2019-01-04 15:08:30\n",
      "2019-01-06 19:11:20\n",
      "2019-01-08 17:46:39\n",
      "2019-01-10 15:20:42\n",
      "2019-01-12 14:21:08\n",
      "2019-01-14 18:01:50\n",
      "2019-01-16 21:03:23\n",
      "2019-01-18 21:10:51\n",
      "2019-01-21 12:37:46\n",
      "2019-01-23 12:32:39\n",
      "2019-01-25 13:36:17\n",
      "2019-01-27 19:14:32\n",
      "2019-01-29 21:29:17\n",
      "2019-01-31 18:42:16\n",
      "2019-02-02 16:03:16\n",
      "2019-02-04 19:33:47\n",
      "2019-02-06 19:13:38\n",
      "2019-02-08 16:42:28\n",
      "2019-02-10 20:52:36\n",
      "2019-02-12 20:37:46\n",
      "2019-02-14 17:34:28\n",
      "2019-02-16 12:23:56\n",
      "2019-02-18 11:47:14\n",
      "2019-02-20 01:01:24\n",
      "2019-02-21 19:43:48\n",
      "2019-02-23 16:34:30\n",
      "2019-02-25 17:20:16\n",
      "2019-02-27 05:38:34\n",
      "2019-02-28 10:40:17\n",
      "2019-03-01 14:37:39\n",
      "2019-03-03 02:17:27\n",
      "2019-03-04 21:32:18\n",
      "2019-03-06 13:30:50\n",
      "2019-03-08 01:36:13\n",
      "2019-03-09 22:20:22\n",
      "2019-03-11 21:01:43\n",
      "2019-03-13 09:47:16\n",
      "2019-03-14 15:58:00\n",
      "2019-03-16 10:38:15\n",
      "2019-03-18 08:28:10\n",
      "2019-03-19 20:15:19\n",
      "2019-03-21 14:26:56\n",
      "2019-03-23 10:50:08\n",
      "2019-03-25 13:13:45\n",
      "2019-03-27 10:21:24\n",
      "2019-03-28 22:20:38\n",
      "2019-03-30 20:43:38\n",
      "2019-04-01 17:09:35\n",
      "2019-04-03 11:15:58\n",
      "2019-04-05 01:22:14\n",
      "2019-04-06 23:21:35\n",
      "2019-04-08 21:56:00\n",
      "2019-04-10 15:11:30\n",
      "2019-04-12 07:27:09\n",
      "2019-04-13 21:43:07\n",
      "2019-04-15 21:45:12\n",
      "2019-04-17 16:36:31\n",
      "2019-04-19 11:38:59\n",
      "2019-04-21 10:06:30\n",
      "2019-04-23 07:57:14\n",
      "2019-04-24 22:42:51\n",
      "2019-04-26 19:54:09\n",
      "2019-04-28 20:32:22\n",
      "2019-04-30 17:07:55\n",
      "2019-05-02 13:47:06\n",
      "2019-05-04 11:11:16\n",
      "2019-05-06 12:16:24\n",
      "2019-05-08 10:01:08\n",
      "2019-05-10 00:47:01\n",
      "2019-05-11 20:32:10\n",
      "2019-05-13 20:00:28\n",
      "2019-05-15 16:44:48\n",
      "2019-05-17 11:59:26\n",
      "2019-05-19 12:05:39\n",
      "2019-05-21 11:42:08\n",
      "2019-05-23 01:36:04\n",
      "2019-05-24 12:23:44\n",
      "2019-05-26 11:00:57\n",
      "2019-05-28 08:50:57\n",
      "2019-05-29 19:48:06\n",
      "2019-05-31 15:19:29\n",
      "2019-06-02 17:17:52\n",
      "2019-06-04 16:24:49\n",
      "2019-06-06 13:33:56\n",
      "2019-06-08 10:55:56\n",
      "2019-06-10 13:25:19\n",
      "2019-06-12 05:45:49\n",
      "2019-06-13 18:28:14\n",
      "2019-06-15 15:50:30\n",
      "2019-06-17 17:21:30\n",
      "2019-06-19 14:20:39\n",
      "2019-06-21 10:34:39\n",
      "2019-06-23 09:43:36\n",
      "2019-06-25 02:33:38\n",
      "2019-06-26 20:50:53\n",
      "2019-06-28 16:12:36\n",
      "2019-06-30 17:20:06\n",
      "2019-07-02 17:06:44\n",
      "2019-07-04 13:49:46\n",
      "2019-07-06 13:33:51\n",
      "2019-07-08 18:20:04\n",
      "2019-07-10 16:10:02\n",
      "2019-07-12 15:05:36\n",
      "2019-07-14 20:24:54\n",
      "2019-07-16 19:36:15\n",
      "2019-07-19 08:49:34\n",
      "2019-07-21 15:17:29\n",
      "2019-07-23 18:29:37\n",
      "2019-07-25 16:23:50\n",
      "2019-07-27 17:36:35\n",
      "2019-07-29 18:25:40\n",
      "2019-07-31 15:27:20\n",
      "2019-08-02 15:12:24\n",
      "2019-08-04 20:27:42\n",
      "2019-08-06 15:39:47\n",
      "2019-08-08 14:11:26\n",
      "2019-08-10 13:04:26\n",
      "2019-08-12 13:39:31\n",
      "2019-08-14 13:48:10\n",
      "2019-08-16 10:52:38\n",
      "2019-08-18 12:34:38\n",
      "2019-08-20 14:36:23\n",
      "2019-08-22 14:16:39\n",
      "2019-08-24 13:00:50\n",
      "2019-08-26 20:03:08\n",
      "2019-08-28 19:08:58\n",
      "2019-08-30 23:39:59\n",
      "2019-09-02 10:24:00\n",
      "2019-09-04 10:07:28\n",
      "2019-09-06 13:01:48\n",
      "2019-09-08 15:12:32\n",
      "2019-09-10 16:39:48\n",
      "2019-09-12 16:37:06\n",
      "2019-09-14 21:27:16\n",
      "2019-09-17 11:39:05\n",
      "2019-09-19 00:49:20\n",
      "2019-09-20 21:10:42\n",
      "2019-09-23 02:18:58\n",
      "2019-09-25 02:41:39\n",
      "2019-09-26 20:44:36\n",
      "2019-09-29 00:18:14\n",
      "2019-10-01 02:43:52\n",
      "2019-10-03 02:53:57\n",
      "2019-10-05 09:08:23\n",
      "2019-10-07 15:46:57\n",
      "2019-10-09 17:33:09\n",
      "2019-10-11 15:37:09\n",
      "2019-10-13 21:06:10\n",
      "2019-10-15 19:34:26\n",
      "2019-10-17 20:33:56\n",
      "2019-10-19 22:12:29\n",
      "2019-10-22 09:11:38\n",
      "2019-10-24 10:42:26\n",
      "2019-10-26 16:22:39\n",
      "2019-10-28 22:02:29\n",
      "2019-10-30 19:57:09\n",
      "2019-11-02 12:16:17\n",
      "2019-11-04 23:52:37\n",
      "2019-11-07 05:44:14\n",
      "2019-11-09 11:43:11\n",
      "2019-11-12 00:59:12\n",
      "2019-11-14 21:02:24\n",
      "2019-11-17 19:19:34\n",
      "2019-11-20 14:46:43\n",
      "2019-11-23 09:42:26\n",
      "2019-11-26 09:26:48\n",
      "2019-11-28 17:12:24\n",
      "2019-12-01 09:42:07\n",
      "2019-12-03 19:57:30\n",
      "2019-12-06 10:10:46\n",
      "2019-12-08 20:42:58\n",
      "2019-12-11 10:49:39\n",
      "2019-12-13 11:08:16\n",
      "2019-12-15 17:33:17\n",
      "2019-12-16 21:02:55\n",
      "2019-12-18 00:14:29\n",
      "2019-12-19 10:59:30\n",
      "2019-12-20 01:52:21\n",
      "2019-12-21 06:40:23\n",
      "2019-12-22 14:43:20\n",
      "2019-12-23 21:56:26\n",
      "2019-12-25 21:30:01\n",
      "2019-12-27 17:20:03\n",
      "2019-12-29 20:57:21\n",
      "2019-12-31 18:27:44\n",
      "2020-01-02 20:41:02\n",
      "2020-01-05 01:08:45\n",
      "2020-01-06 21:24:54\n",
      "2020-01-08 16:34:21\n",
      "2020-01-10 12:49:45\n",
      "2020-01-12 12:58:11\n",
      "2020-01-14 14:56:49\n",
      "2020-01-16 16:49:18\n",
      "2020-01-19 08:14:25\n",
      "2020-01-21 16:30:15\n",
      "2020-01-24 04:00:30\n",
      "2020-01-26 16:33:24\n",
      "2020-01-29 02:41:37\n",
      "2020-01-30 23:20:59\n",
      "2020-02-02 01:39:32\n",
      "2020-02-04 14:33:29\n",
      "2020-02-06 19:31:01\n",
      "2020-02-09 11:12:52\n",
      "2020-02-11 23:27:24\n",
      "2020-02-14 13:05:45\n",
      "2020-02-17 11:00:05\n",
      "2020-02-19 20:50:52\n",
      "2020-02-22 16:30:33\n",
      "2020-02-25 09:58:21\n",
      "2020-02-27 01:32:37\n",
      "2020-02-28 21:06:05\n",
      "2020-03-02 07:53:11\n",
      "2020-03-04 12:40:00\n",
      "2020-03-06 17:39:35\n",
      "2020-03-09 07:47:18\n",
      "2020-03-11 22:14:57\n",
      "2020-03-14 08:09:10\n",
      "2020-03-16 14:35:37\n",
      "2020-03-18 16:24:11\n",
      "2020-03-20 17:48:06\n",
      "2020-03-22 09:17:16\n",
      "2020-03-23 01:54:37\n",
      "2020-03-24 14:24:51\n",
      "2020-03-25 18:33:05\n",
      "2020-03-27 12:02:54\n",
      "2020-03-28 21:25:24\n",
      "2020-03-30 13:10:32\n",
      "2020-03-31 23:00:29\n",
      "2020-04-02 15:35:07\n",
      "2020-04-03 22:31:42\n",
      "2020-04-05 16:35:54\n",
      "2020-04-06 19:33:06\n",
      "2020-04-08 15:45:49\n",
      "2020-04-10 05:29:51\n"
     ]
    },
    {
     "data": {
      "text/html": [
       "<div>\n",
       "<style scoped>\n",
       "    .dataframe tbody tr th:only-of-type {\n",
       "        vertical-align: middle;\n",
       "    }\n",
       "\n",
       "    .dataframe tbody tr th {\n",
       "        vertical-align: top;\n",
       "    }\n",
       "\n",
       "    .dataframe thead th {\n",
       "        text-align: right;\n",
       "    }\n",
       "</style>\n",
       "<table border=\"1\" class=\"dataframe\">\n",
       "  <thead>\n",
       "    <tr style=\"text-align: right;\">\n",
       "      <th></th>\n",
       "      <th>id</th>\n",
       "      <th>title</th>\n",
       "      <th>body</th>\n",
       "      <th>flare</th>\n",
       "    </tr>\n",
       "  </thead>\n",
       "  <tbody>\n",
       "    <tr>\n",
       "      <th>count</th>\n",
       "      <td>421738</td>\n",
       "      <td>421738</td>\n",
       "      <td>420839</td>\n",
       "      <td>224493</td>\n",
       "    </tr>\n",
       "    <tr>\n",
       "      <th>unique</th>\n",
       "      <td>421738</td>\n",
       "      <td>401141</td>\n",
       "      <td>54954</td>\n",
       "      <td>222</td>\n",
       "    </tr>\n",
       "    <tr>\n",
       "      <th>top</th>\n",
       "      <td>8w0603</td>\n",
       "      <td>Late Night Random Discussion Thread !</td>\n",
       "      <td></td>\n",
       "      <td>Politics</td>\n",
       "    </tr>\n",
       "    <tr>\n",
       "      <th>freq</th>\n",
       "      <td>1</td>\n",
       "      <td>249</td>\n",
       "      <td>328916</td>\n",
       "      <td>60969</td>\n",
       "    </tr>\n",
       "  </tbody>\n",
       "</table>\n",
       "</div>"
      ],
      "text/plain": [
       "            id                                  title    body     flare\n",
       "count   421738                                 421738  420839    224493\n",
       "unique  421738                                 401141   54954       222\n",
       "top     8w0603  Late Night Random Discussion Thread !          Politics\n",
       "freq         1                                    249  328916     60969"
      ]
     },
     "execution_count": 32,
     "metadata": {},
     "output_type": "execute_result"
    }
   ],
   "source": [
    "subData = []\n",
    "subCount = 0\n",
    "#Subreddit to query\n",
    "sub='india'\n",
    "#before and after dates\n",
    "\n",
    "#unix time is provided\n",
    "after = \"1514764800\"  #January 1st 2018\n",
    "before = \"1586476800\" #10th April 2020\n",
    "\n",
    "data = getPushshiftData(after, before, sub)\n",
    "\n",
    "while len(data) > 0:\n",
    "    for submission in data:\n",
    "        try:\n",
    "            flare = submission['link_flair_text']\n",
    "        except KeyError:\n",
    "            flare = None\n",
    "         \n",
    "        if flare == None:\n",
    "            continue\n",
    "            \n",
    "        sub_id = submission['id']\n",
    "        title = submission['title']\n",
    "        try:\n",
    "            selftext = submission['selftext']\n",
    "        except KeyError:\n",
    "            selftext = None\n",
    "        \n",
    "        subData.append([sub_id,title,selftext,flare])    \n",
    "        subCount+=1\n",
    "   # print(str(datetime.datetime.fromtimestamp(data[-1]['created_utc'])))\n",
    "    #after every 1000 posts,after time is changed for API by using the last post extracted\n",
    "    after = data[-1]['created_utc']\n",
    "    data = getPushshiftData(after, before, sub)\n",
    "              \n",
    "original_expanded_data = pd.DataFrame(subData,columns=['id', 'title', 'body', 'flare'])\n",
    "original_expanded_data.describe()"
   ]
  },
  {
   "cell_type": "code",
   "execution_count": 46,
   "metadata": {},
   "outputs": [
    {
     "data": {
      "text/plain": [
       "Politics                                             60904\n",
       "Non-Political                                        59430\n",
       "AskIndia                                             32861\n",
       "Business/Finance                                     13169\n",
       "Science/Technology                                   10245\n",
       "                                                     ...  \n",
       "| Repost | Post link Directly                            1\n",
       "Self-promotion. Not Original Title.                      1\n",
       "Personal Info. Custom; Informed OP.                      1\n",
       "| Not specific to India | Low Quality/Non OC Meme        1\n",
       "Megathread                                               1\n",
       "Name: flare, Length: 221, dtype: int64"
      ]
     },
     "execution_count": 46,
     "metadata": {},
     "output_type": "execute_result"
    }
   ],
   "source": [
    "expanded_data = original_expanded_data\n",
    "expanded_data.drop_duplicates(keep='last',inplace=True)\n",
    "expanded_data = expanded_data[pd.notnull(expanded_data['flare'])]\n",
    "expanded_data['text'] = expanded_data['title'].str.cat(expanded_data['body'], sep =\" \")"
   ]
  },
  {
   "cell_type": "code",
   "execution_count": 49,
   "metadata": {},
   "outputs": [
    {
     "data": {
      "text/plain": [
       "Politics                                             60904\n",
       "Non-Political                                        59430\n",
       "AskIndia                                             32861\n",
       "Business/Finance                                     13169\n",
       "Science/Technology                                   10245\n",
       "                                                     ...  \n",
       "| Repost | Post link Directly                            1\n",
       "Self-promotion. Not Original Title.                      1\n",
       "Personal Info. Custom; Informed OP.                      1\n",
       "| Not specific to India | Low Quality/Non OC Meme        1\n",
       "Megathread                                               1\n",
       "Name: flare, Length: 221, dtype: int64"
      ]
     },
     "execution_count": 49,
     "metadata": {},
     "output_type": "execute_result"
    }
   ],
   "source": [
    "expanded_data['flare'].value_counts()"
   ]
  },
  {
   "cell_type": "code",
   "execution_count": 50,
   "metadata": {},
   "outputs": [
    {
     "data": {
      "image/png": "[encoded data removed]",
      "text/plain": [
       "<Figure size 720x504 with 1 Axes>"
      ]
     },
     "metadata": {
      "needs_background": "light"
     },
     "output_type": "display_data"
    }
   ],
   "source": [
    "expanded_data = expanded_data.groupby('flare').filter(lambda x : len(x)>3000)\n",
    "ax, fig = plt.subplots(figsize=(10, 7))\n",
    "flare_class = expanded_data[\"flare\"].value_counts()\n",
    "flare_class.plot(kind= 'bar')\n",
    "plt.title('Count of different flares')\n",
    "plt.show()"
   ]
  },
  {
   "cell_type": "code",
   "execution_count": 51,
   "metadata": {},
   "outputs": [
    {
     "data": {
      "text/html": [
       "<div>\n",
       "<style scoped>\n",
       "    .dataframe tbody tr th:only-of-type {\n",
       "        vertical-align: middle;\n",
       "    }\n",
       "\n",
       "    .dataframe tbody tr th {\n",
       "        vertical-align: top;\n",
       "    }\n",
       "\n",
       "    .dataframe thead th {\n",
       "        text-align: right;\n",
       "    }\n",
       "</style>\n",
       "<table border=\"1\" class=\"dataframe\">\n",
       "  <thead>\n",
       "    <tr style=\"text-align: right;\">\n",
       "      <th></th>\n",
       "      <th>id</th>\n",
       "      <th>title</th>\n",
       "      <th>body</th>\n",
       "      <th>flare</th>\n",
       "      <th>text</th>\n",
       "    </tr>\n",
       "  </thead>\n",
       "  <tbody>\n",
       "    <tr>\n",
       "      <th>count</th>\n",
       "      <td>210245</td>\n",
       "      <td>210245</td>\n",
       "      <td>210245</td>\n",
       "      <td>210245</td>\n",
       "      <td>210245</td>\n",
       "    </tr>\n",
       "    <tr>\n",
       "      <th>unique</th>\n",
       "      <td>210245</td>\n",
       "      <td>200593</td>\n",
       "      <td>34841</td>\n",
       "      <td>11</td>\n",
       "      <td>199121</td>\n",
       "    </tr>\n",
       "    <tr>\n",
       "      <th>top</th>\n",
       "      <td>b7auxa</td>\n",
       "      <td>Slag Crusher Plant Manufacturer Exporters in I...</td>\n",
       "      <td></td>\n",
       "      <td>Politics</td>\n",
       "      <td></td>\n",
       "    </tr>\n",
       "    <tr>\n",
       "      <th>freq</th>\n",
       "      <td>1</td>\n",
       "      <td>131</td>\n",
       "      <td>153490</td>\n",
       "      <td>60904</td>\n",
       "      <td>242</td>\n",
       "    </tr>\n",
       "  </tbody>\n",
       "</table>\n",
       "</div>"
      ],
      "text/plain": [
       "            id                                              title    body  \\\n",
       "count   210245                                             210245  210245   \n",
       "unique  210245                                             200593   34841   \n",
       "top     b7auxa  Slag Crusher Plant Manufacturer Exporters in I...           \n",
       "freq         1                                                131  153490   \n",
       "\n",
       "           flare    text  \n",
       "count     210245  210245  \n",
       "unique        11  199121  \n",
       "top     Politics          \n",
       "freq       60904     242  "
      ]
     },
     "execution_count": 51,
     "metadata": {},
     "output_type": "execute_result"
    }
   ],
   "source": [
    "emoji_pattern = re.compile(\"[\"\n",
    "                       u\"\\U0001F600-\\U0001F64F\"  # emoticons\n",
    "                       u\"\\U0001F300-\\U0001F5FF\"  # symbols & pictographs\n",
    "                       u\"\\U0001F680-\\U0001F6FF\"  # transport & map symbols\n",
    "                       u\"\\U0001F1E0-\\U0001F1FF\"  # flags (iOS)\n",
    "                       u\"\\U00002702-\\U000027B0\"\n",
    "                       u\"\\U000024C2-\\U0001F251\"\n",
    "                       \"]+\", flags=re.UNICODE)\n",
    "\n",
    "expanded_data['text'] = (expanded_data['text'].str.lower() #lowercase\n",
    "                           .str.replace(r'[^\\w\\s]+', '') #rem punctuation \n",
    "                           .str.replace(emoji_pattern, '') #rem emoji\n",
    "                           .str.replace(r'http\\S+','') #rem links\n",
    "                           .str.strip() #rem trailing whitespaces\n",
    "                           .str.split()) #split by whitespaces\n",
    "\n",
    "res = []\n",
    "stop_words = set(stopwords.words('english')) \n",
    "\n",
    "for i in expanded_data['text']:\n",
    "    t = \"\"\n",
    "    for j in i:\n",
    "        if j not in stop_words:\n",
    "            w = ps.stem(j)\n",
    "            t += w\n",
    "            t += \" \"\n",
    "    res.append(t)\n",
    "expanded_data['text'] = res\n",
    "expanded_data.describe()"
   ]
  },
  {
   "cell_type": "code",
   "execution_count": null,
   "metadata": {},
   "outputs": [],
   "source": [
    "from sklearn import model_selection\n",
    "from sklearn.preprocessing import LabelEncoder\n",
    "from sklearn.metrics import accuracy_score\n",
    "from sklearn.feature_extraction.text import TfidfVectorizer\n",
    "\n",
    "train_x, test_x, train_y, test_y = model_selection.train_test_split(expanded_data['text'], expanded_data['flare'],test_size=0.3)\n",
    "\n",
    "# X = the entire text data , Y = entire target or flares\n",
    "X = expanded_data['text']\n",
    "Y = expanded_data['flare']\n",
    "\n",
    "encoder = LabelEncoder()\n",
    "\n",
    "# label encode the target variable \n",
    "Y = encoder.fit_transform(Y)\n",
    "train_y = encoder.transform(train_y)\n",
    "test_y = encoder.transform(test_y)\n",
    "Tfidf_vect = TfidfVectorizer(max_features=15000)\n",
    "Tfidf_vect.fit(expanded_data['text'])\n",
    "Train_X_Tfidf = Tfidf_vect.transform(train_x)\n",
    "Test_X_Tfidf = Tfidf_vect.transform(test_x)\n",
    "X = Tfidf_vect.transform(X)"
   ]
  },
  {
   "cell_type": "code",
   "execution_count": null,
   "metadata": {},
   "outputs": [
    {
     "name": "stdout",
     "output_type": "stream",
     "text": [
      "Naive Bayes Accuracy Score ->  57.077401147858076\n"
     ]
    }
   ],
   "source": [
    "get_accuracy(Train_X_Tfidf,train_y,Test_X_Tfidf,test_y)"
   ]
  },
  {
   "cell_type": "code",
   "execution_count": null,
   "metadata": {},
   "outputs": [],
   "source": [
    "from imblearn.under_sampling import RandomUnderSampler\n",
    "print('Original dataset shape %s' % Counter(Y))\n",
    "rus = RandomUnderSampler(random_state=42)\n",
    "X_undersampled, Y_undersampled = rus.fit_resample(X, Y)\n",
    "Train_X_Tfidf_oversampled, Test_X_Tfidf_oversampled, train_y_oversampled, test_y_oversampled = model_selection.train_test_split(X_oversampled, Y_oversampled,test_size=0.3)\n",
    "print(Counter(Y_undersampled))"
   ]
  },
  {
   "cell_type": "code",
   "execution_count": null,
   "metadata": {},
   "outputs": [],
   "source": []
  },
  {
   "cell_type": "code",
   "execution_count": null,
   "metadata": {},
   "outputs": [],
   "source": []
  },
  {
   "cell_type": "code",
   "execution_count": null,
   "metadata": {},
   "outputs": [],
   "source": [
    "#### Below code will download the model, tfidf vectorizer and encoder to be directly used in Web App"
   ]
  },
  {
   "cell_type": "code",
   "execution_count": null,
   "metadata": {},
   "outputs": [],
   "source": [
    "import pickle\n",
    "pickle.dump(model, open(\"model.pkl\",\"wb\"))\n",
    "pickle.dump(Tfidf_vect, open(\"tfidf.pickle\", \"wb\"))\n",
    "np.save('classes.npy', encoder.classes_)"
   ]
  },
  {
   "cell_type": "code",
   "execution_count": null,
   "metadata": {},
   "outputs": [],
   "source": [
    "#### This is used to test the endpoint by sending request from test.txt"
   ]
  },
  {
   "cell_type": "code",
   "execution_count": null,
   "metadata": {},
   "outputs": [],
   "source": [
    "import requests\n",
    "\n",
    "with open('test.txt', 'rb') as f:\n",
    "    r = requests.post('https://reddit-flare-detector.herokuapp.com/automated_testing', files={'test.txt': f})\n",
    "    a = r.json()\n",
    "    print(a)"
   ]
  }
 ],
 "metadata": {
  "kernelspec": {
   "display_name": "Python 3",
   "language": "python",
   "name": "python3"
  },
  "language_info": {
   "codemirror_mode": {
    "name": "ipython",
    "version": 3
   },
   "file_extension": ".py",
   "mimetype": "text/x-python",
   "name": "python",
   "nbconvert_exporter": "python",
   "pygments_lexer": "ipython3",
   "version": "3.7.4"
  }
 },
 "nbformat": 4,
 "nbformat_minor": 4
}

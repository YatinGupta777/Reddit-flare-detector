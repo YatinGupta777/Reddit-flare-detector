{
 "cells": [
  {
   "cell_type": "code",
   "execution_count": 23,
   "metadata": {},
   "outputs": [],
   "source": [
    "#Necessary libraries\n",
    "import praw\n",
    "import pandas as pd\n",
    "import matplotlib\n",
    "import matplotlib.pyplot as plt\n",
    "import string\n",
    "import re\n",
    "import nltk\n",
    "from nltk.tokenize import word_tokenize\n",
    "from nltk.stem import PorterStemmer    \n",
    "from nltk.corpus import stopwords\n",
    "import collections\n",
    "import numpy as np\n",
    "set(stopwords.words('english'))\n",
    "ps = PorterStemmer() "
   ]
  },
  {
   "cell_type": "code",
   "execution_count": 1,
   "metadata": {},
   "outputs": [],
   "source": []
  },
  {
   "cell_type": "code",
   "execution_count": null,
   "metadata": {},
   "outputs": [],
   "source": [
    "#Downloading lib\n",
    "#nltk.download('punkt')\n",
    "#nltk.download('stopwords')"
   ]
  },
  {
   "cell_type": "code",
   "execution_count": 3,
   "metadata": {},
   "outputs": [],
   "source": [
    "#Id to scrape\n",
    "my_client_id = \"tlaYd7tsDOqvlQ\"\n",
    "my_client_secret = \"xdRqwLkA07r8ScyJZTMsYUndrSA\"\n",
    "my_user_agent = \"scrapping r/india\""
   ]
  },
  {
   "cell_type": "code",
   "execution_count": null,
   "metadata": {},
   "outputs": [],
   "source": [
    "#Helper function to print full panda data frame to analyze data\n",
    "def print_full(x):\n",
    "    pd.set_option('display.max_rows', len(x))\n",
    "    pd.set_option('display.max_colwidth', 950)\n",
    "    print(x)\n",
    "    pd.reset_option('display.max_rows')\n",
    "    pd.reset_option('display.max_colwidth')"
   ]
  },
  {
   "cell_type": "code",
   "execution_count": 4,
   "metadata": {},
   "outputs": [],
   "source": [
    "# API to access reddit data\n",
    "reddit = praw.Reddit(client_id=my_client_id, client_secret=my_client_secret, user_agent=my_user_agent)\n",
    "india_subreddit = reddit.subreddit('India')"
   ]
  },
  {
   "cell_type": "markdown",
   "metadata": {},
   "source": [
    "## Data Collection\n",
    "<ul>\n",
    "    <li>Getting TOP, HOT and NEW posts of reddit using the praw API </li>\n",
    "    <li>Many JSON tags are retrived which may or may not be used in future </li>\n",
    "    <li>https://github.com/reddit-archive/reddit/wiki/JSON used to study the tags </li>\n",
    "    <li>This is done to get all the types of posts and not be trained on only one type. Also increases training data</li>\n",
    "</ul>"
   ]
  },
  {
   "cell_type": "code",
   "execution_count": null,
   "metadata": {},
   "outputs": [],
   "source": [
    "top_posts = []\n",
    "for post in india_subreddit.top(limit=1000):\n",
    "    top_posts.append([post.title, post.score, post.id, post.subreddit, post.url, post.num_comments, post.selftext, post.created,post.link_flair_text])\n",
    "\n",
    "hot_posts = []\n",
    "for post in india_subreddit.hot(limit=1000):\n",
    "    hot_posts.append([post.title, post.score, post.id, post.subreddit, post.url, post.num_comments, post.selftext, post.created,post.link_flair_text])\n",
    "\n",
    "\n",
    "new_posts = []\n",
    "for post in india_subreddit.new(limit=1000):\n",
    "    new_posts.append([post.title, post.score, post.id, post.subreddit, post.url, post.num_comments, post.selftext, post.created,post.link_flair_text])\n"
   ]
  },
  {
   "cell_type": "markdown",
   "metadata": {},
   "source": [
    "## Exploratory Data Analysis"
   ]
  },
  {
   "cell_type": "markdown",
   "metadata": {},
   "source": [
    "<ul>\n",
    "    <li>Converting the data obtained into data frames for analyzing and combining the three types of data with duplicates removed</li>\n",
    "    <li>Adding a text column that is title + body</li>\n",
    "    <li>Removing NONE instances</li>\n",
    "</ul>    "
   ]
  },
  {
   "cell_type": "code",
   "execution_count": null,
   "metadata": {},
   "outputs": [],
   "source": [
    "top_posts = pd.DataFrame(top_posts,columns=['title', 'score', 'id', 'subreddit', 'url', 'num_comments', 'body', 'created','flare'])\n",
    "hot_posts = pd.DataFrame(hot_posts,columns=['title', 'score', 'id', 'subreddit', 'url', 'num_comments', 'body', 'created','flare'])\n",
    "new_posts = pd.DataFrame(new_posts,columns=['title', 'score', 'id', 'subreddit', 'url', 'num_comments', 'body', 'created','flare'])\n",
    "\n",
    "frames = [top_posts, hot_posts, new_posts]\n",
    "data = pd.concat(frames)\n",
    "data.drop_duplicates(keep='last',inplace=True)\n",
    "data['text'] = data['title'].str.cat(data['body'], sep =\" \")\n",
    "data = data.mask(data.eq('None')).dropna()\n",
    "data.describe()"
   ]
  },
  {
   "cell_type": "markdown",
   "metadata": {},
   "source": [
    "#### Here we analyze the division of count of posts in respective flares\n",
    "This will tell how many and which flares are prominent"
   ]
  },
  {
   "cell_type": "code",
   "execution_count": null,
   "metadata": {},
   "outputs": [],
   "source": [
    "data['flare'].value_counts()"
   ]
  },
  {
   "cell_type": "code",
   "execution_count": null,
   "metadata": {},
   "outputs": [],
   "source": [
    "ax, fig = plt.subplots(figsize=(10, 7))\n",
    "flare_class = data[\"flare\"].value_counts()\n",
    "flare_class.plot(kind= 'bar')\n",
    "plt.title('Count of different flares')\n",
    "plt.show()"
   ]
  },
  {
   "cell_type": "markdown",
   "metadata": {},
   "source": [
    "### Analyzing the word cloud of the four main Flares - Coronavirus, non-political, politics, askindia\n",
    "This is done to visualize which words are more used wrt flares"
   ]
  },
  {
   "cell_type": "code",
   "execution_count": null,
   "metadata": {},
   "outputs": [],
   "source": [
    "from wordcloud import WordCloud\n",
    "stop_words = stopwords.words(\"english\")\n",
    "\n",
    "Coronavirus = data[data[\"flare\"] == \"Coronavirus\"]\n",
    "Non_Political = data[data[\"flare\"] == \"Non-Political\"]\n",
    "Politics = data[data[\"flare\"] == \"Politics\"]\n",
    "AskIndia = data[data[\"flare\"] == \"AskIndia\"]\n",
    "\n",
    "Coronavirus_words = ''\n",
    "Non_Political_words = ''\n",
    "Politics_words = ''\n",
    "AskIndia_words = ''\n",
    "\n",
    "#Extracting words wrt flares\n",
    "\n",
    "for t in Coronavirus.text:\n",
    "    text = t.lower()\n",
    "    tokens = word_tokenize(text)\n",
    "    for w in tokens:\n",
    "        Coronavirus_words = Coronavirus_words + w + ' '\n",
    "        \n",
    "for t in Non_Political.text:\n",
    "    text = t.lower()\n",
    "    tokens = word_tokenize(text)\n",
    "    for w in tokens:\n",
    "        Non_Political_words = Non_Political_words + w + ' '\n",
    "        \n",
    "for t in Politics.text:\n",
    "    text = t.lower()\n",
    "    tokens = word_tokenize(text)\n",
    "    for w in tokens:\n",
    "        Politics_words = Politics_words + w + ' '\n",
    "        \n",
    "for t in AskIndia.text:\n",
    "    text = t.lower()\n",
    "    tokens = word_tokenize(text)\n",
    "    for w in tokens:\n",
    "        AskIndia_words = AskIndia_words + w + ' '        \n"
   ]
  },
  {
   "cell_type": "markdown",
   "metadata": {},
   "source": [
    "#### Coronavirus Wordcloud"
   ]
  },
  {
   "cell_type": "code",
   "execution_count": null,
   "metadata": {},
   "outputs": [],
   "source": [
    "# Generate a word cloud image\n",
    "wordcloud = WordCloud(width=600, height=400).generate(Coronavirus_words)\n",
    "#Insincere Word cloud\n",
    "plt.figure( figsize=(10,8), facecolor='k')\n",
    "plt.imshow(wordcloud)\n",
    "plt.axis(\"off\")\n",
    "plt.tight_layout(pad=0)\n",
    "plt.show()"
   ]
  },
  {
   "cell_type": "markdown",
   "metadata": {},
   "source": [
    "#### Non-politcal Word Cloud"
   ]
  },
  {
   "cell_type": "code",
   "execution_count": null,
   "metadata": {},
   "outputs": [],
   "source": [
    "# Generate a word cloud image\n",
    "wordcloud = WordCloud(width=600, height=400).generate(Non_Political_words)\n",
    "#Insincere Word cloud\n",
    "plt.figure( figsize=(10,8), facecolor='k')\n",
    "plt.imshow(wordcloud)\n",
    "plt.axis(\"off\")\n",
    "plt.tight_layout(pad=0)\n",
    "plt.show()"
   ]
  },
  {
   "cell_type": "markdown",
   "metadata": {},
   "source": [
    "#### Politics words Word Cloud"
   ]
  },
  {
   "cell_type": "code",
   "execution_count": null,
   "metadata": {},
   "outputs": [],
   "source": [
    "# Generate a word cloud image\n",
    "wordcloud = WordCloud(width=600, height=400).generate(Politics_words)\n",
    "#Insincere Word cloud\n",
    "plt.figure( figsize=(10,8), facecolor='k')\n",
    "plt.imshow(wordcloud)\n",
    "plt.axis(\"off\")\n",
    "plt.tight_layout(pad=0)\n",
    "plt.show()"
   ]
  },
  {
   "cell_type": "markdown",
   "metadata": {},
   "source": [
    "#### Ask India words, Word Cloud"
   ]
  },
  {
   "cell_type": "code",
   "execution_count": null,
   "metadata": {},
   "outputs": [],
   "source": [
    "# Generate a word cloud image\n",
    "wordcloud = WordCloud(width=600, height=400).generate(AskIndia_words)\n",
    "#Insincere Word cloud\n",
    "plt.figure( figsize=(10,8), facecolor='k')\n",
    "plt.imshow(wordcloud)\n",
    "plt.axis(\"off\")\n",
    "plt.tight_layout(pad=0)\n",
    "plt.show()"
   ]
  },
  {
   "cell_type": "markdown",
   "metadata": {},
   "source": [
    "### Comparison of length of posts and number of words used in different flare posts"
   ]
  },
  {
   "cell_type": "code",
   "execution_count": null,
   "metadata": {},
   "outputs": [],
   "source": [
    "Coronavirus[\"post_length\"] = Coronavirus.text.apply(lambda x: len(x))\n",
    "Non_Political[\"post_length\"] = Non_Political.text.apply(lambda x: len(x))\n",
    "\n",
    "Coronavirus['number_words'] = Coronavirus.text.apply(lambda x: len(x.split()))\n",
    "Non_Political['number_words'] = Non_Political.text.apply(lambda x: len(x.split()))\n",
    "\n",
    "print(\"Mean Length of Coronavirus Posts \" + str(Coronavirus[\"post_length\"].mean()))\n",
    "print(\"Mean Length of Non Political Posts \"  + str(Non_Political[\"post_length\"].mean()))\n",
    "print(\"Mean word usage of Coronavirus Posts \"  + str(Coronavirus['number_words'].mean()))\n",
    "print(\"Mean word usage of Non Political Posts \"  + str(Non_Political['number_words'].mean()))\n"
   ]
  },
  {
   "cell_type": "markdown",
   "metadata": {},
   "source": [
    "## Building the Flare Detector"
   ]
  },
  {
   "cell_type": "markdown",
   "metadata": {},
   "source": [
    "Helper Function to build confusion matrix"
   ]
  },
  {
   "cell_type": "code",
   "execution_count": 27,
   "metadata": {},
   "outputs": [],
   "source": [
    "def plot_confusion_matrix(cm, classes,\n",
    "                          normalize=False,\n",
    "                          title='Confusion matrix',\n",
    "                          cmap=plt.cm.Blues):\n",
    "    \"\"\"\n",
    "    This function prints and plots the confusion matrix.\n",
    "    Normalization can be applied by setting `normalize=True`.\n",
    "    \"\"\"\n",
    "    import itertools\n",
    "    if normalize:\n",
    "        cm = cm.astype('float') / cm.sum(axis=1)[:, np.newaxis]\n",
    "        print(\"Normalized confusion matrix\")\n",
    "    else:\n",
    "        print('Confusion matrix, without normalization')\n",
    "\n",
    "    plt.imshow(cm, interpolation='nearest', cmap=cmap)\n",
    "    plt.title(title)\n",
    "    plt.colorbar()\n",
    "    tick_marks = np.arange(len(classes))\n",
    "    plt.xticks(tick_marks, classes, rotation=45)\n",
    "    plt.yticks(tick_marks, classes)\n",
    "\n",
    "    fmt = '.2f' if normalize else 'd'\n",
    "    thresh = cm.max() / 2.\n",
    "    for i, j in itertools.product(range(cm.shape[0]), range(cm.shape[1])):\n",
    "        plt.text(j, i, format(cm[i, j], fmt),\n",
    "                 horizontalalignment=\"center\",\n",
    "                 color=\"white\" if cm[i, j] > thresh else \"black\")\n",
    "\n",
    "    plt.ylabel('True label')\n",
    "    plt.xlabel('Predicted label')\n",
    "    plt.tight_layout()"
   ]
  },
  {
   "cell_type": "markdown",
   "metadata": {},
   "source": [
    "### Data Collection\n",
    "<ul>\n",
    "    <li> The required data here is extracted from data collected earlier </li>\n",
    "    <li> The TOP, HOT and NEW posts are concatenated in frame </li>\n",
    "    <li> duplicates are removed </li>\n",
    "</ul>    "
   ]
  },
  {
   "cell_type": "code",
   "execution_count": null,
   "metadata": {},
   "outputs": [],
   "source": [
    "top_text_flare_data = top_posts[['id','title','body','flare']]\n",
    "hot_text_flare_data = hot_posts[['id','title','body','flare']]\n",
    "new_text_flare_data = new_posts[['id','title','body','flare']]\n",
    "\n",
    "frames = [top_text_flare_data, hot_text_flare_data, new_text_flare_data]\n",
    "data = pd.concat(frames)\n",
    "data.drop_duplicates(keep='last',inplace=True)\n",
    "data.describe()"
   ]
  },
  {
   "cell_type": "markdown",
   "metadata": {},
   "source": [
    "# Part I\n",
    "Here around 15 flares are considered"
   ]
  },
  {
   "cell_type": "markdown",
   "metadata": {},
   "source": [
    "### Since the number of flare was large (40), all the flares with less than 3 posts are deleted here.\n",
    "<ul>\n",
    "<li>This is done since having large number of flares reduced the accuracy if test dataset on splitting only had the lower ones.</li>\n",
    "<li>Also model is able to predict only the most prominent ones due to less data. </li>\n",
    "<li>Creating a text column which concatenates the title and body text </li>\n",
    "<li> ALL the rows with NONE data are removed </li>\n",
    "</ul>"
   ]
  },
  {
   "cell_type": "code",
   "execution_count": null,
   "metadata": {},
   "outputs": [],
   "source": [
    "data = data.groupby('flare').filter(lambda x : len(x)>3)\n",
    "data['text'] = data['title'].str.cat(data['body'], sep =\" \")\n",
    "data = data.mask(data.eq('None')).dropna()\n",
    "data.describe()\n"
   ]
  },
  {
   "cell_type": "markdown",
   "metadata": {},
   "source": [
    "#### Preprocessing the data\n",
    "<ul>\n",
    "    <li>Creating regex emoji pattern to remove emojis</li>\n",
    "    <li> All strings are lowered </li>\n",
    "    <li> Punctuation, whitespaces,links are removed</li>\n",
    "    <li> Stop words are removed and words are stemmed</li>\n",
    "    <li> Finally it contains list of strings where each word is stemmed and cleaned</li>\n",
    "</ul>"
   ]
  },
  {
   "cell_type": "code",
   "execution_count": null,
   "metadata": {},
   "outputs": [],
   "source": [
    "emoji_pattern = re.compile(\"[\"\n",
    "                       u\"\\U0001F600-\\U0001F64F\"  # emoticons\n",
    "                       u\"\\U0001F300-\\U0001F5FF\"  # symbols & pictographs\n",
    "                       u\"\\U0001F680-\\U0001F6FF\"  # transport & map symbols\n",
    "                       u\"\\U0001F1E0-\\U0001F1FF\"  # flags (iOS)\n",
    "                       u\"\\U00002702-\\U000027B0\"\n",
    "                       u\"\\U000024C2-\\U0001F251\"\n",
    "                       \"]+\", flags=re.UNICODE)\n",
    "\n",
    "data['text'] = (data['text'].str.lower() #lowercase\n",
    "                           .str.replace(r'[^\\w\\s]+', '') #rem punctuation \n",
    "                           .str.replace(emoji_pattern, '') #rem emoji\n",
    "                           .str.replace(r'http\\S+','') #rem links\n",
    "                           .str.strip() #rem trailing whitespaces\n",
    "                           .str.split()) #split by whitespaces\n",
    "\n",
    "res = []\n",
    "stop_words = set(stopwords.words('english')) \n",
    "empty = ['removed','deleted','nan']\n",
    "\n",
    "for i in data['text']:\n",
    "    t = \"\"\n",
    "    for j in i:\n",
    "        if j not in stop_words and not in empty:\n",
    "            w = ps.stem(j)\n",
    "            t += w\n",
    "            t += \" \"\n",
    "    res.append(t)\n",
    "data['text'] = res\n"
   ]
  },
  {
   "cell_type": "markdown",
   "metadata": {},
   "source": [
    "Split the dataset into training and validation datasets \n"
   ]
  },
  {
   "cell_type": "code",
   "execution_count": null,
   "metadata": {},
   "outputs": [],
   "source": [
    "from sklearn import model_selection\n",
    "from sklearn.preprocessing import LabelEncoder\n",
    "from sklearn.metrics import accuracy_score\n",
    "from sklearn.feature_extraction.text import TfidfVectorizer\n",
    "\n",
    "train_x, test_x, train_y, test_y = model_selection.train_test_split(data['text'], data['flare'],test_size=0.3)\n",
    "\n",
    "# X = the entire text data , Y = entire target or flares\n",
    "X = data['text']\n",
    "Y = data['flare']\n",
    "\n",
    "encoder = preprocessing.LabelEncoder()\n",
    "\n",
    "# label encode the target variable \n",
    "Y = encoder.fit_transform(Y)\n",
    "train_y = encoder.transform(train_y)\n",
    "test_y = encoder.transform(test_y)\n"
   ]
  },
  {
   "cell_type": "markdown",
   "metadata": {},
   "source": [
    "Converting the words to vectors using Tfidf to be used for ML algos"
   ]
  },
  {
   "cell_type": "code",
   "execution_count": null,
   "metadata": {},
   "outputs": [],
   "source": [
    "Tfidf_vect = TfidfVectorizer(max_features=5000)\n",
    "Tfidf_vect.fit(data['text'])\n",
    "Train_X_Tfidf = Tfidf_vect.transform(train_x)\n",
    "Test_X_Tfidf = Tfidf_vect.transform(test_x)\n",
    "X = Tfidf_vect.transform(X)"
   ]
  },
  {
   "cell_type": "code",
   "execution_count": null,
   "metadata": {},
   "outputs": [],
   "source": [
    "np.random.seed(500)"
   ]
  },
  {
   "cell_type": "markdown",
   "metadata": {},
   "source": [
    "### Calculating Accuracy of different ML algo"
   ]
  },
  {
   "cell_type": "markdown",
   "metadata": {},
   "source": [
    "#### Naive Bayes"
   ]
  },
  {
   "cell_type": "code",
   "execution_count": null,
   "metadata": {},
   "outputs": [],
   "source": [
    "from sklearn import naive_bayes\n",
    "# fit the training dataset on the NB classifier\n",
    "Naive = naive_bayes.MultinomialNB()\n",
    "Naive.fit(Train_X_Tfidf,train_y)\n",
    "# predict the labels on validation dataset\n",
    "predictions_NB = Naive.predict(Test_X_Tfidf)\n",
    "# Use accuracy_score function to get the accuracy\n",
    "accuracy_naive = accuracy_score(predictions_NB, test_y)*100\n",
    "\n",
    "print(\"Naive Bayes Accuracy Score -> \",accuracy_score(predictions_NB, test_y)*100)"
   ]
  },
  {
   "cell_type": "markdown",
   "metadata": {},
   "source": [
    "#### SVM"
   ]
  },
  {
   "cell_type": "code",
   "execution_count": null,
   "metadata": {},
   "outputs": [],
   "source": [
    "from sklearn import svm\n",
    "# fit the training dataset on the classifier\n",
    "SVM = svm.SVC(C=1.0, kernel='linear', degree=3, gamma='auto')\n",
    "SVM.fit(Train_X_Tfidf,train_y)\n",
    "# predict the labels on validation dataset\n",
    "predictions_SVM = SVM.predict(Test_X_Tfidf)\n",
    "# Use accuracy_score function to get the accuracy\n",
    "accuracy_SVM = accuracy_score(predictions_SVM, test_y)*100\n",
    "print(\"SVM Accuracy Score -> \",accuracy_score(predictions_SVM, test_y)*100)"
   ]
  },
  {
   "cell_type": "markdown",
   "metadata": {},
   "source": [
    "#### Random Forest Classifier"
   ]
  },
  {
   "cell_type": "code",
   "execution_count": null,
   "metadata": {},
   "outputs": [],
   "source": [
    "from sklearn import ensemble\n",
    "random_forest_classfier = ensemble.RandomForestClassifier()\n",
    "random_forest_classfier.fit(Train_X_Tfidf,train_y)\n",
    "predictions_RF = random_forest_classfier.predict(Test_X_Tfidf)\n",
    "# Use accuracy_score function to get the accuracy\n",
    "accuracy_rfc = accuracy_score(predictions_RF, test_y)*100\n",
    "print(\"RF Accuracy Score -> \",accuracy_score(predictions_RF, test_y)*100)"
   ]
  },
  {
   "cell_type": "markdown",
   "metadata": {},
   "source": [
    "#### SGDClassifier \n",
    "linear classifier optimized by the SGD."
   ]
  },
  {
   "cell_type": "code",
   "execution_count": null,
   "metadata": {},
   "outputs": [],
   "source": [
    "from sklearn.linear_model import SGDClassifier\n",
    "sgd = SGDClassifier(loss='hinge', penalty='l2',alpha=1e-3, random_state=42, max_iter=5, tol=None)\n",
    "sgd.fit(Train_X_Tfidf,train_y)\n",
    "# predict the labels on validation dataset\n",
    "predictions_sgd = sgd.predict(Test_X_Tfidf)\n",
    "# Use accuracy_score function to get the accuracy\n",
    "accuracy_sgd = accuracy_score(predictions_sgd, test_y)*100\n",
    "print(\"SGD Accuracy Score -> \",accuracy_score(predictions_sgd, test_y)*100)"
   ]
  },
  {
   "cell_type": "markdown",
   "metadata": {},
   "source": [
    "#### LogisticRegression"
   ]
  },
  {
   "cell_type": "code",
   "execution_count": null,
   "metadata": {},
   "outputs": [],
   "source": [
    "from sklearn.linear_model import LogisticRegression\n",
    "Logistic_Regression = LogisticRegression(n_jobs=1, C=1e5,max_iter=2000)\n",
    "Logistic_Regression.fit(Train_X_Tfidf,train_y)\n",
    "# predict the labels on validation dataset\n",
    "predictions_Logistic_Regression = Logistic_Regression.predict(Test_X_Tfidf)\n",
    "# Use accuracy_score function to get the accuracy\n",
    "accuracy_lr = accuracy_score(predictions_Logistic_Regression, test_y)*100\n",
    "print(\"Logistic_Regression Accuracy Score -> \",accuracy_score(predictions_Logistic_Regression, test_y)*100)"
   ]
  },
  {
   "cell_type": "markdown",
   "metadata": {},
   "source": [
    "### Accuracy Comparison"
   ]
  },
  {
   "cell_type": "code",
   "execution_count": null,
   "metadata": {},
   "outputs": [],
   "source": [
    "model_prediction = [accuracy_naive,accuracy_SVM,accuracy_rfc,accuracy_sgd,accuracy_lr]\n",
    "model_names = [\"Naive\",\"SVM\",\"random_forest_classfier\",\"sgd\",\"Logistic_Regression\"]\n",
    "for i in range(0,len(models)):\n",
    "    print(\"Accuracy by \" + model_names[i] + \" = \" + str(model_prediction[i]) + \"%\")"
   ]
  },
  {
   "cell_type": "markdown",
   "metadata": {},
   "source": [
    "#### Testing on Manual Examples\n",
    "below example list is created on which the models will predict the flare"
   ]
  },
  {
   "cell_type": "code",
   "execution_count": 24,
   "metadata": {},
   "outputs": [],
   "source": [
    "example_list = np.array([\"Stuck in quarantine. Playing games all day\",\"This. virus is killing me\",\"Government of India needs to take action \",\"All the political ministers need to work for india\"])\n",
    "Example = pd.Series(example_list)\n",
    "Example = (Example.str.lower() #lowercase\n",
    "                           .str.replace(r'[^\\w\\s]+', '') #rem punctuation \n",
    "                           .str.replace(emoji_pattern, '') #rem emoji\n",
    "                           .str.replace(r'http\\S+','') #rem links\n",
    "                           .str.strip() #rem trailing whitespaces\n",
    "                           .str.split()) #split by whitespaces\n",
    "res = []\n",
    "stop_words = set(stopwords.words('english')) \n",
    "\n",
    "for i in Example:\n",
    "    t = \"\"\n",
    "    for j in i:\n",
    "        if j not in stop_words:\n",
    "            w = ps.stem(j)\n",
    "            t += w\n",
    "            t += \" \"\n",
    "    res.append(t)\n",
    "Example = res\n",
    "Example_Tfidf = Tfidf_vect.transform(Example)"
   ]
  },
  {
   "cell_type": "code",
   "execution_count": null,
   "metadata": {},
   "outputs": [],
   "source": [
    "models = [Naive,SVM,random_forest_classfier,sgd,Logistic_Regression]\n",
    "for i in range(0,len(models)):\n",
    "    model = models[i]\n",
    "    predict_example = model.predict(Example_Tfidf)\n",
    "    print(\"Predictions by \" + model_names[i])\n",
    "    print(encoder.inverse_transform(predict_example))\n"
   ]
  },
  {
   "cell_type": "markdown",
   "metadata": {},
   "source": [
    "#### Building a confusion matrix to analyze the results from the best classifier yet (sgd) "
   ]
  },
  {
   "cell_type": "code",
   "execution_count": null,
   "metadata": {},
   "outputs": [],
   "source": [
    "from sklearn.metrics import confusion_matrix\n",
    "cm = confusion_matrix(test_y, predictions_sgd)\n",
    "\n",
    "plt.figure()\n",
    "plot_confusion_matrix(cm, classes=[],normalize=True,\n",
    "                      title='Confusion matrix, without normalization')"
   ]
  },
  {
   "cell_type": "markdown",
   "metadata": {},
   "source": [
    "# Part II\n",
    "Since most of the cm is 0 or very less values here the dataset is reduced"
   ]
  },
  {
   "cell_type": "markdown",
   "metadata": {},
   "source": [
    "#### Helper function to get accuracy from all the ML models which were defined as above"
   ]
  },
  {
   "cell_type": "code",
   "execution_count": null,
   "metadata": {},
   "outputs": [],
   "source": [
    "def get_accuracy(Train_X_Tfidf,train_y,Test_X_Tfidf,test_y):\n",
    "    from sklearn import naive_bayes\n",
    "    # fit the training dataset on the NB classifier\n",
    "    Naive = naive_bayes.MultinomialNB()\n",
    "    Naive.fit(Train_X_Tfidf,train_y)\n",
    "    # predict the labels on validation dataset\n",
    "    predictions_NB = Naive.predict(Test_X_Tfidf)\n",
    "    # Use accuracy_score function to get the accuracy\n",
    "    accuracy_naive = accuracy_score(predictions_NB, test_y)*100\n",
    "    print(\"Naive Bayes Accuracy Score -> \",accuracy_score(predictions_NB, test_y)*100)\n",
    "\n",
    "    from sklearn import svm\n",
    "    # fit the training dataset on the classifier\n",
    "    SVM = svm.SVC(C=1.0, kernel='linear', degree=3, gamma='auto')\n",
    "    SVM.fit(Train_X_Tfidf,train_y)\n",
    "    # predict the labels on validation dataset\n",
    "    predictions_SVM = SVM.predict(Test_X_Tfidf)\n",
    "    # Use accuracy_score function to get the accuracy\n",
    "    accuracy_SVM = accuracy_score(predictions_SVM, test_y)*100\n",
    "    print(\"SVM Accuracy Score -> \",accuracy_score(predictions_SVM, test_y)*100)\n",
    "\n",
    "    from sklearn import ensemble\n",
    "    random_forest_classfier = ensemble.RandomForestClassifier()\n",
    "    random_forest_classfier.fit(Train_X_Tfidf,train_y)\n",
    "    predictions_RF = random_forest_classfier.predict(Test_X_Tfidf)\n",
    "    # Use accuracy_score function to get the accuracy\n",
    "    accuracy_rfc = accuracy_score(predictions_RF, test_y)*100\n",
    "    print(\"RF Accuracy Score -> \",accuracy_score(predictions_RF, test_y)*100)\n",
    "\n",
    "    from sklearn.linear_model import LogisticRegression\n",
    "    Logistic_Regression = LogisticRegression(n_jobs=1, C=1e5,max_iter=2000)\n",
    "    Logistic_Regression.fit(Train_X_Tfidf,train_y)\n",
    "    # predict the labels on validation dataset\n",
    "    predictions_Logistic_Regression = Logistic_Regression.predict(Test_X_Tfidf)\n",
    "    # Use accuracy_score function to get the accuracy\n",
    "    accuracy_lr = accuracy_score(predictions_Logistic_Regression, test_y)*100\n",
    "    print(\"Logistic_Regression Accuracy Score -> \",accuracy_score(predictions_Logistic_Regression, test_y)*100)\n",
    "\n",
    "    from sklearn.linear_model import SGDClassifier\n",
    "    sgd = SGDClassifier(loss='hinge', penalty='l2',alpha=1e-3, random_state=42, max_iter=5, tol=None)\n",
    "    sgd.fit(Train_X_Tfidf,train_y)\n",
    "    # predict the labels on validation dataset\n",
    "    predictions_sgd = sgd.predict(Test_X_Tfidf)\n",
    "    # Use accuracy_score function to get the accuracy\n",
    "    accuracy_sgd = accuracy_score(predictions_sgd, test_y)*100\n",
    "    print(\"SGD Accuracy Score -> \",accuracy_score(predictions_sgd, test_y)*100)"
   ]
  },
  {
   "cell_type": "markdown",
   "metadata": {},
   "source": [
    "### Data is made again by using the scraped data, but here only flares with greater than 100 posts are used\n",
    "<ul>\n",
    "    <li>Data is cleaned and prepared</li>\n",
    "</ul>    "
   ]
  },
  {
   "cell_type": "code",
   "execution_count": null,
   "metadata": {},
   "outputs": [],
   "source": [
    "top_text_flare_data = top_posts[['id','title','body','flare']]\n",
    "hot_text_flare_data = hot_posts[['id','title','body','flare']]\n",
    "new_text_flare_data = new_posts[['id','title','body','flare']]\n",
    "\n",
    "frames = [top_text_flare_data, hot_text_flare_data, new_text_flare_data]\n",
    "data = pd.concat(frames)\n",
    "data.drop_duplicates(keep='last',inplace=True)\n",
    "data = data.groupby('flare').filter(lambda x : len(x)>100)\n",
    "\n",
    "data['text'] = data['title'].str.cat(data['body'], sep =\" \")\n",
    "data = data.mask(data.eq('None')).dropna()\n",
    "\n",
    "emoji_pattern = re.compile(\"[\"\n",
    "                       u\"\\U0001F600-\\U0001F64F\"  # emoticons\n",
    "                       u\"\\U0001F300-\\U0001F5FF\"  # symbols & pictographs\n",
    "                       u\"\\U0001F680-\\U0001F6FF\"  # transport & map symbols\n",
    "                       u\"\\U0001F1E0-\\U0001F1FF\"  # flags (iOS)\n",
    "                       u\"\\U00002702-\\U000027B0\"\n",
    "                       u\"\\U000024C2-\\U0001F251\"\n",
    "                       \"]+\", flags=re.UNICODE)\n",
    "\n",
    "data['text'] = (data['text'].str.lower() #lowercase\n",
    "                           .str.replace(r'[^\\w\\s]+', '') #rem punctuation \n",
    "                           .str.replace(emoji_pattern, '') #rem emoji\n",
    "                           .str.replace(r'http\\S+','') #rem links\n",
    "                           .str.strip() #rem trailing whitespaces\n",
    "                           .str.split()) #split by whitespaces\n",
    "\n",
    "res = []\n",
    "stop_words = set(stopwords.words('english')) \n",
    "empty = ['removed','deleted','nan']\n",
    "\n",
    "for i in data['text']:\n",
    "    t = \"\"\n",
    "    for j in i:\n",
    "        if j not in stop_words and not in empty:\n",
    "            w = ps.stem(j)\n",
    "            t += w\n",
    "            t += \" \"\n",
    "    res.append(t)\n",
    "data['text'] = res\n",
    "data['flare'].value_counts()"
   ]
  },
  {
   "cell_type": "markdown",
   "metadata": {},
   "source": [
    "#### Data obtained above is divided into train,test and vectorized /encoded"
   ]
  },
  {
   "cell_type": "code",
   "execution_count": null,
   "metadata": {},
   "outputs": [],
   "source": [
    "from sklearn import model_selection\n",
    "from sklearn.preprocessing import LabelEncoder\n",
    "from sklearn.metrics import accuracy_score\n",
    "from sklearn.feature_extraction.text import TfidfVectorizer\n",
    "\n",
    "train_x, test_x, train_y, test_y = model_selection.train_test_split(data['text'], data['flare'],test_size=0.3)\n",
    "\n",
    "# X = the entire text data , Y = entire target or flares\n",
    "X = data['text']\n",
    "Y = data['flare']\n",
    "\n",
    "encoder = preprocessing.LabelEncoder()\n",
    "\n",
    "# label encode the target variable \n",
    "Y = encoder.fit_transform(Y)\n",
    "train_y = encoder.transform(train_y)\n",
    "test_y = encoder.transform(test_y)\n",
    "Tfidf_vect = TfidfVectorizer(max_features=15000)\n",
    "Tfidf_vect.fit(data['text'])\n",
    "Train_X_Tfidf = Tfidf_vect.transform(train_x)\n",
    "Test_X_Tfidf = Tfidf_vect.transform(test_x)\n",
    "X = Tfidf_vect.transform(X)"
   ]
  },
  {
   "cell_type": "markdown",
   "metadata": {},
   "source": [
    "#### Accuracy is measured from this data"
   ]
  },
  {
   "cell_type": "code",
   "execution_count": null,
   "metadata": {},
   "outputs": [],
   "source": [
    "get_accuracy(Train_X_Tfidf,train_y,Test_X_Tfidf,test_y)"
   ]
  },
  {
   "cell_type": "markdown",
   "metadata": {},
   "source": [
    "#### Data is oversampled"
   ]
  },
  {
   "cell_type": "code",
   "execution_count": null,
   "metadata": {},
   "outputs": [],
   "source": [
    "from imblearn.over_sampling import SMOTE\n",
    "smote = SMOTE('minority')\n",
    "X_oversampled, Y_oversampled = smote.fit_resample(X, Y)\n",
    "Train_X_Tfidf_oversampled, Test_X_Tfidf_oversampled, train_y_oversampled, test_y_oversampled = model_selection.train_test_split(X_oversampled, Y_oversampled,test_size=0.3)"
   ]
  },
  {
   "cell_type": "markdown",
   "metadata": {},
   "source": [
    "#### Accuracy is measured from the oversampled data"
   ]
  },
  {
   "cell_type": "code",
   "execution_count": null,
   "metadata": {},
   "outputs": [],
   "source": [
    "get_accuracy(Train_X_Tfidf_oversampled,train_y_oversampled,Test_X_Tfidf_oversampled,test_y_oversampled)"
   ]
  },
  {
   "cell_type": "code",
   "execution_count": null,
   "metadata": {},
   "outputs": [],
   "source": [
    "from sklearn.metrics import confusion_matrix\n",
    "\n",
    "model = svm.SVC(C=1.0, kernel='linear', degree=3, gamma='auto')\n",
    "model.fit(Train_X_Tfidf_oversampled,train_y_oversampled)\n",
    "predictions_sgd = model.predict(Test_X_Tfidf_oversampled)\n",
    "cm = confusion_matrix(test_y_oversampled, predictions_sgd)\n",
    "plt.figure()\n",
    "plot_confusion_matrix(cm, classes=[],normalize=True,\n",
    "                      title='Confusion matrix, without normalization')"
   ]
  },
  {
   "cell_type": "markdown",
   "metadata": {},
   "source": [
    "### The confusion matrix indicates better values than previous one"
   ]
  },
  {
   "cell_type": "markdown",
   "metadata": {},
   "source": [
    "# Part III\n",
    "Increasing the amount of data by a large count"
   ]
  },
  {
   "cell_type": "markdown",
   "metadata": {},
   "source": [
    "### using the Pushshift data, reddit r/india is scrapped for 2 years data."
   ]
  },
  {
   "cell_type": "markdown",
   "metadata": {},
   "source": [
    "#### defining the helper function for API"
   ]
  },
  {
   "cell_type": "code",
   "execution_count": 5,
   "metadata": {},
   "outputs": [],
   "source": [
    "import requests\n",
    "import json\n",
    "import datetime\n",
    "\n",
    "def getPushshiftData(after, before, sub):\n",
    "    url = 'https://api.pushshift.io/reddit/search/submission/?size=1000&after='+str(after)+'&before='+str(before)+'&subreddit='+str(sub)\n",
    "   # print(url)\n",
    "    r = requests.get(url)\n",
    "    data = json.loads(r.text)\n",
    "    return data['data']"
   ]
  },
  {
   "cell_type": "markdown",
   "metadata": {},
   "source": [
    "## Here data is repeadtly scrapped in counts of 1000 posts from Jan 1 2018 to 10th April 2020.\n",
    "### Calls to reddit API after every 1000 posts as that is the limit\n",
    "#### This function takes a approx 10-20 minutes\n",
    "#### Pandas dataframe is downloaded once the download finishes. Hence this code is commented out"
   ]
  },
  {
   "cell_type": "code",
   "execution_count": 20,
   "metadata": {},
   "outputs": [],
   "source": [
    "# subData = []\n",
    "# subCount = 0\n",
    "# #Subreddit to query\n",
    "# sub='india'\n",
    "# #before and after dates\n",
    "\n",
    "# #unix time is provided\n",
    "# after = \"1514764800\"  #January 1st 2018\n",
    "# before = \"1586476800\" #10th April 2020\n",
    "\n",
    "# data = getPushshiftData(after, before, sub)\n",
    "\n",
    "# while len(data) > 0:\n",
    "#     for submission in data:\n",
    "#         try:\n",
    "#             flare = submission['link_flair_text']\n",
    "#         except KeyError:\n",
    "#             flare = None\n",
    "         \n",
    "#         if flare == None:\n",
    "#             continue\n",
    "            \n",
    "#         sub_id = submission['id']\n",
    "#         title = submission['title']\n",
    "#         try:\n",
    "#             selftext = submission['selftext']\n",
    "#         except KeyError:\n",
    "#             selftext = None\n",
    "        \n",
    "#         subData.append([sub_id,title,selftext,flare])    \n",
    "#         subCount+=1\n",
    "#     print(str(datetime.datetime.fromtimestamp(data[-1]['created_utc'])),end = \" \")\n",
    "#     #after every 1000 posts,after time is changed for API by using the last post extracted\n",
    "#     after = data[-1]['created_utc']\n",
    "#     data = getPushshiftData(after, before, sub)\n",
    "              \n",
    "# original_expanded_data = pd.DataFrame(subData,columns=['id', 'title', 'body', 'flare'])\n",
    "# original_expanded_data.describe()"
   ]
  },
  {
   "cell_type": "code",
   "execution_count": 8,
   "metadata": {},
   "outputs": [],
   "source": [
    "# import pickle\n",
    "# original_expanded_data.to_pickle(\"original_expanded_data.pkl\") "
   ]
  },
  {
   "cell_type": "markdown",
   "metadata": {},
   "source": [
    "### Analyzing the new expanded data flare count"
   ]
  },
  {
   "cell_type": "code",
   "execution_count": 9,
   "metadata": {},
   "outputs": [
    {
     "data": {
      "text/plain": [
       "Politics                                                  60969\n",
       "Non-Political                                             59573\n",
       "AskIndia                                                  33075\n",
       "Business/Finance                                          13181\n",
       "Science/Technology                                        10257\n",
       "                                                          ...  \n",
       "Not Related to India                                          1\n",
       "| Witch-hunting/Targeting User |                              1\n",
       "Low-effort Post.                                              1\n",
       "Not in English. Removed                                       1\n",
       "Personal Info. Unverified Content. TIL Rule Violation.        1\n",
       "Name: flare, Length: 222, dtype: int64"
      ]
     },
     "execution_count": 9,
     "metadata": {},
     "output_type": "execute_result"
    }
   ],
   "source": [
    "expanded_data = pd.read_pickle(\"original_expanded_data.pkl\")\n",
    "expanded_data.drop_duplicates(keep='last',inplace=True)\n",
    "expanded_data['text'] = expanded_data['title'].str.cat(expanded_data['body'], sep =\" \")\n",
    "expanded_data['flare'].value_counts()"
   ]
  },
  {
   "cell_type": "markdown",
   "metadata": {},
   "source": [
    "### Filtering out the flares which have 3000 posts +\n",
    "### seeing the count now"
   ]
  },
  {
   "cell_type": "code",
   "execution_count": 10,
   "metadata": {},
   "outputs": [
    {
     "data": {
      "image/png": "[encoded data removed]",
      "text/plain": [
       "<Figure size 720x504 with 1 Axes>"
      ]
     },
     "metadata": {
      "needs_background": "light"
     },
     "output_type": "display_data"
    }
   ],
   "source": [
    "expanded_data = expanded_data.groupby('flare').filter(lambda x : len(x)>3000)\n",
    "ax, fig = plt.subplots(figsize=(10, 7))\n",
    "flare_class = expanded_data[\"flare\"].value_counts()\n",
    "flare_class.plot(kind= 'bar')\n",
    "plt.title('Count of different flares')\n",
    "plt.show()"
   ]
  },
  {
   "cell_type": "markdown",
   "metadata": {},
   "source": [
    "#### Cleaning the collected data"
   ]
  },
  {
   "cell_type": "code",
   "execution_count": 11,
   "metadata": {},
   "outputs": [
    {
     "data": {
      "text/html": [
       "<div>\n",
       "<style scoped>\n",
       "    .dataframe tbody tr th:only-of-type {\n",
       "        vertical-align: middle;\n",
       "    }\n",
       "\n",
       "    .dataframe tbody tr th {\n",
       "        vertical-align: top;\n",
       "    }\n",
       "\n",
       "    .dataframe thead th {\n",
       "        text-align: right;\n",
       "    }\n",
       "</style>\n",
       "<table border=\"1\" class=\"dataframe\">\n",
       "  <thead>\n",
       "    <tr style=\"text-align: right;\">\n",
       "      <th></th>\n",
       "      <th>id</th>\n",
       "      <th>title</th>\n",
       "      <th>body</th>\n",
       "      <th>flare</th>\n",
       "      <th>text</th>\n",
       "    </tr>\n",
       "  </thead>\n",
       "  <tbody>\n",
       "    <tr>\n",
       "      <th>count</th>\n",
       "      <td>210245</td>\n",
       "      <td>210245</td>\n",
       "      <td>210245</td>\n",
       "      <td>210245</td>\n",
       "      <td>210245</td>\n",
       "    </tr>\n",
       "    <tr>\n",
       "      <th>unique</th>\n",
       "      <td>210245</td>\n",
       "      <td>200593</td>\n",
       "      <td>34841</td>\n",
       "      <td>11</td>\n",
       "      <td>199121</td>\n",
       "    </tr>\n",
       "    <tr>\n",
       "      <th>top</th>\n",
       "      <td>dqy8o1</td>\n",
       "      <td>Slag Crusher Plant Manufacturer Exporters in I...</td>\n",
       "      <td></td>\n",
       "      <td>Politics</td>\n",
       "      <td></td>\n",
       "    </tr>\n",
       "    <tr>\n",
       "      <th>freq</th>\n",
       "      <td>1</td>\n",
       "      <td>131</td>\n",
       "      <td>153490</td>\n",
       "      <td>60904</td>\n",
       "      <td>242</td>\n",
       "    </tr>\n",
       "  </tbody>\n",
       "</table>\n",
       "</div>"
      ],
      "text/plain": [
       "            id                                              title    body  \\\n",
       "count   210245                                             210245  210245   \n",
       "unique  210245                                             200593   34841   \n",
       "top     dqy8o1  Slag Crusher Plant Manufacturer Exporters in I...           \n",
       "freq         1                                                131  153490   \n",
       "\n",
       "           flare    text  \n",
       "count     210245  210245  \n",
       "unique        11  199121  \n",
       "top     Politics          \n",
       "freq       60904     242  "
      ]
     },
     "execution_count": 11,
     "metadata": {},
     "output_type": "execute_result"
    }
   ],
   "source": [
    "emoji_pattern = re.compile(\"[\"\n",
    "                       u\"\\U0001F600-\\U0001F64F\"  # emoticons\n",
    "                       u\"\\U0001F300-\\U0001F5FF\"  # symbols & pictographs\n",
    "                       u\"\\U0001F680-\\U0001F6FF\"  # transport & map symbols\n",
    "                       u\"\\U0001F1E0-\\U0001F1FF\"  # flags (iOS)\n",
    "                       u\"\\U00002702-\\U000027B0\"\n",
    "                       u\"\\U000024C2-\\U0001F251\"\n",
    "                       \"]+\", flags=re.UNICODE)\n",
    "\n",
    "expanded_data['text'] = (expanded_data['text'].str.lower() #lowercase\n",
    "                           .str.replace(r'[^\\w\\s]+', '') #rem punctuation \n",
    "                           .str.replace(emoji_pattern, '') #rem emoji\n",
    "                           .str.replace(r'http\\S+','') #rem links\n",
    "                           .str.strip() #rem trailing whitespaces\n",
    "                           .str.split()) #split by whitespaces\n",
    "expanded_data = expanded_data.mask(expanded_data.eq('None')).dropna()\n",
    "res = []\n",
    "empty = ['removed','deleted','nan']\n",
    "\n",
    "stop_words = set(stopwords.words('english')) \n",
    "for i in expanded_data['text']:\n",
    "    t = \"\"\n",
    "    for j in i:\n",
    "        if j not in stop_words and not in empty:\n",
    "            w = ps.stem(j)\n",
    "            t += w\n",
    "            t += \" \"\n",
    "    res.append(t)\n",
    "expanded_data['text'] = res\n",
    "expanded_data.describe()"
   ]
  },
  {
   "cell_type": "code",
   "execution_count": 12,
   "metadata": {},
   "outputs": [
    {
     "data": {
      "text/plain": [
       "0                  first draft nrc assam releas check name \n",
       "1                 best fastest way doubl 1 lakh rupe legal \n",
       "2                    anyon know what go back truck comment \n",
       "3         like jadhav couldnt hug mother glass screen ya...\n",
       "4         2018 क जसन प कवय न मदरहल मलयम और लल क जमकर ल फरक \n",
       "                                ...                        \n",
       "224488           done homeless beggar india lockdown remov \n",
       "224489           swabhimaan top rate 90 serial doordarshan \n",
       "224490    latest indian hindi full movi hd horror myster...\n",
       "224491    coronaviru indian doctor warn prime minist ppe...\n",
       "224492        coronaviru centr concern polaris religi line \n",
       "Name: text, Length: 210245, dtype: object"
      ]
     },
     "execution_count": 12,
     "metadata": {},
     "output_type": "execute_result"
    }
   ],
   "source": [
    "expanded_data['flare'].value_counts()"
   ]
  },
  {
   "cell_type": "markdown",
   "metadata": {},
   "source": [
    "#### Encoding/vectorizing the data"
   ]
  },
  {
   "cell_type": "code",
   "execution_count": 13,
   "metadata": {},
   "outputs": [],
   "source": [
    "from sklearn import model_selection\n",
    "from sklearn.preprocessing import LabelEncoder\n",
    "from sklearn.metrics import accuracy_score\n",
    "from sklearn.feature_extraction.text import TfidfVectorizer\n",
    "\n",
    "train_x, test_x, train_y, test_y = model_selection.train_test_split(expanded_data['text'], expanded_data['flare'],test_size=0.3)\n",
    "\n",
    "# X = the entire text data , Y = entire target or flares\n",
    "X = expanded_data['text']\n",
    "Y = expanded_data['flare']\n",
    "\n",
    "encoder = LabelEncoder()\n",
    "\n",
    "# label encode the target variable \n",
    "Y = encoder.fit_transform(Y)\n",
    "train_y = encoder.transform(train_y)\n",
    "test_y = encoder.transform(test_y)\n",
    "Tfidf_vect = TfidfVectorizer(max_features=30000)\n",
    "Tfidf_vect.fit(expanded_data['text'])\n",
    "Train_X_Tfidf = Tfidf_vect.transform(train_x)\n",
    "Test_X_Tfidf = Tfidf_vect.transform(test_x)\n",
    "X = Tfidf_vect.transform(X)"
   ]
  },
  {
   "cell_type": "markdown",
   "metadata": {},
   "source": [
    "#### Undersampling the Data since some flares have much increased posts"
   ]
  },
  {
   "cell_type": "code",
   "execution_count": 14,
   "metadata": {},
   "outputs": [
    {
     "name": "stderr",
     "output_type": "stream",
     "text": [
      "Using TensorFlow backend.\n"
     ]
    },
    {
     "name": "stdout",
     "output_type": "stream",
     "text": [
      "Original dataset shape Counter({7: 60904, 3: 59430, 0: 32861, 1: 13169, 8: 10245, 6: 9858, 2: 6563, 10: 5522, 5: 4545, 9: 4117, 4: 3031})\n",
      "Counter({0: 3031, 1: 3031, 2: 3031, 3: 3031, 4: 3031, 5: 3031, 6: 3031, 7: 3031, 8: 3031, 9: 3031, 10: 3031})\n"
     ]
    }
   ],
   "source": [
    "from collections import Counter\n",
    "from imblearn.under_sampling import RandomUnderSampler\n",
    "print('Original dataset shape %s' % Counter(Y))\n",
    "rus = RandomUnderSampler(random_state=42)\n",
    "X_undersampled, Y_undersampled = rus.fit_resample(X, Y)\n",
    "Train_X_Tfidf_undersampled, Test_X_Tfidf_undersampled, train_y_undersampled, test_y_undersampled = model_selection.train_test_split(X_undersampled, Y_undersampled,test_size=0.3)\n",
    "print(Counter(Y_undersampled))"
   ]
  },
  {
   "cell_type": "code",
   "execution_count": 15,
   "metadata": {},
   "outputs": [
    {
     "name": "stdout",
     "output_type": "stream",
     "text": [
      "Naive Bayes Accuracy Score ->  55.74327701689493\n"
     ]
    }
   ],
   "source": [
    "from sklearn import naive_bayes\n",
    "# fit the training dataset on the NB classifier\n",
    "Naive = naive_bayes.MultinomialNB()\n",
    "Naive.fit(Train_X_Tfidf_undersampled,train_y_undersampled)\n",
    "# predict the labels on validation dataset\n",
    "predictions_NB = Naive.predict(Test_X_Tfidf_undersampled)\n",
    "# Use accuracy_score function to get the accuracy\n",
    "accuracy_naive = accuracy_score(predictions_NB, test_y_undersampled)*100\n",
    "\n",
    "print(\"Naive Bayes Accuracy Score -> \",accuracy_score(predictions_NB, test_y_undersampled)*100)"
   ]
  },
  {
   "cell_type": "markdown",
   "metadata": {},
   "source": [
    "#### Getting the accuracy using this data and models defined before"
   ]
  },
  {
   "cell_type": "code",
   "execution_count": 16,
   "metadata": {},
   "outputs": [
    {
     "name": "stdout",
     "output_type": "stream",
     "text": [
      "RF Accuracy Score ->  52.70418874337699\n"
     ]
    }
   ],
   "source": [
    "from sklearn import ensemble\n",
    "random_forest_classfier = ensemble.RandomForestClassifier()\n",
    "random_forest_classfier.fit(Train_X_Tfidf_undersampled,train_y_undersampled)\n",
    "predictions_RF = random_forest_classfier.predict(Test_X_Tfidf_undersampled)\n",
    "# Use accuracy_score function to get the accuracy\n",
    "accuracy_rfc = accuracy_score(predictions_RF, test_y_undersampled)*100\n",
    "print(\"RF Accuracy Score -> \",accuracy_score(predictions_RF, test_y_undersampled)*100)"
   ]
  },
  {
   "cell_type": "code",
   "execution_count": 17,
   "metadata": {},
   "outputs": [
    {
     "name": "stdout",
     "output_type": "stream",
     "text": [
      "SGD Accuracy Score ->  54.16375087473758\n"
     ]
    }
   ],
   "source": [
    "from sklearn.linear_model import SGDClassifier\n",
    "sgd = SGDClassifier(loss='hinge', penalty='l2',alpha=1e-3, random_state=42, max_iter=5, tol=None)\n",
    "sgd.fit(Train_X_Tfidf_undersampled,train_y_undersampled)\n",
    "# predict the labels on validation dataset\n",
    "predictions_sgd = sgd.predict(Test_X_Tfidf_undersampled)\n",
    "# Use accuracy_score function to get the accuracy\n",
    "accuracy_sgd = accuracy_score(predictions_sgd, test_y_undersampled)*100\n",
    "print(\"SGD Accuracy Score -> \",accuracy_score(predictions_sgd, test_y_undersampled)*100)"
   ]
  },
  {
   "cell_type": "code",
   "execution_count": 19,
   "metadata": {},
   "outputs": [
    {
     "name": "stdout",
     "output_type": "stream",
     "text": [
      "Logistic_Regression Accuracy Score ->  49.75901322256397\n"
     ]
    },
    {
     "name": "stderr",
     "output_type": "stream",
     "text": [
      "/Users/yatingupta/Github/Reddit-flare-detector/env/lib/python3.7/site-packages/sklearn/linear_model/_logistic.py:940: ConvergenceWarning: lbfgs failed to converge (status=1):\n",
      "STOP: TOTAL NO. of f AND g EVALUATIONS EXCEEDS LIMIT.\n",
      "\n",
      "Increase the number of iterations (max_iter) or scale the data as shown in:\n",
      "    https://scikit-learn.org/stable/modules/preprocessing.html\n",
      "Please also refer to the documentation for alternative solver options:\n",
      "    https://scikit-learn.org/stable/modules/linear_model.html#logistic-regression\n",
      "  extra_warning_msg=_LOGISTIC_SOLVER_CONVERGENCE_MSG)\n"
     ]
    }
   ],
   "source": [
    "# from sklearn.linear_model import LogisticRegression\n",
    "# Logistic_Regression = LogisticRegression(n_jobs=1, C=1e5,max_iter=20000)\n",
    "# Logistic_Regression.fit(Train_X_Tfidf,train_y)\n",
    "# # predict the labels on validation dataset\n",
    "# predictions_Logistic_Regression = Logistic_Regression.predict(Test_X_Tfidf)\n",
    "# # Use accuracy_score function to get the accuracy\n",
    "# accuracy_lr = accuracy_score(predictions_Logistic_Regression, test_y)*100\n",
    "# print(\"Logistic_Regression Accuracy Score -> \",accuracy_score(predictions_Logistic_Regression, test_y)*100)"
   ]
  },
  {
   "cell_type": "code",
   "execution_count": null,
   "metadata": {},
   "outputs": [],
   "source": [
    "# from sklearn import svm\n",
    "# # fit the training dataset on the classifier\n",
    "# SVM = svm.SVC(C=1.0, kernel='linear', degree=3, gamma='auto')\n",
    "# SVM.fit(Train_X_Tfidf,train_y)\n",
    "# # predict the labels on validation dataset\n",
    "# predictions_SVM = SVM.predict(Test_X_Tfidf)\n",
    "# # Use accuracy_score function to get the accuracy\n",
    "# accuracy_SVM = accuracy_score(predictions_SVM, test_y)*100\n",
    "# print(\"SVM Accuracy Score -> \",accuracy_score(predictions_SVM, test_y)*100)"
   ]
  },
  {
   "cell_type": "markdown",
   "metadata": {},
   "source": [
    "#### Although the accuracy have decreased, the model correctly predicts the sample examples"
   ]
  },
  {
   "cell_type": "code",
   "execution_count": 25,
   "metadata": {},
   "outputs": [
    {
     "name": "stdout",
     "output_type": "stream",
     "text": [
      "['Sports' 'Coronavirus' 'Coronavirus' 'Politics']\n"
     ]
    }
   ],
   "source": [
    "model = Naive\n",
    "predict_example = model.predict(Example_Tfidf)\n",
    "print(encoder.inverse_transform(predict_example))"
   ]
  },
  {
   "cell_type": "code",
   "execution_count": 28,
   "metadata": {},
   "outputs": [
    {
     "name": "stdout",
     "output_type": "stream",
     "text": [
      "Normalized confusion matrix\n"
     ]
    },
    {
     "data": {
      "image/png": "[encoded data removed]",
      "text/plain": [
       "<Figure size 432x288 with 2 Axes>"
      ]
     },
     "metadata": {
      "needs_background": "light"
     },
     "output_type": "display_data"
    }
   ],
   "source": [
    "from sklearn.metrics import confusion_matrix\n",
    "cm = confusion_matrix(test_y_undersampled, predictions_NB)\n",
    "\n",
    "plt.figure()\n",
    "plot_confusion_matrix(cm, classes=[],normalize=True,\n",
    "                      title='Confusion matrix, without normalization')"
   ]
  },
  {
   "cell_type": "markdown",
   "metadata": {},
   "source": [
    "#### Below code will download the model, tfidf vectorizer and encoder to be directly used in Web App"
   ]
  },
  {
   "cell_type": "code",
   "execution_count": 29,
   "metadata": {},
   "outputs": [],
   "source": [
    "import pickle\n",
    "model = Naive\n",
    "pickle.dump(model, open(\"model.pkl\",\"wb\"))\n",
    "pickle.dump(Tfidf_vect, open(\"tfidf.pickle\", \"wb\"))\n",
    "np.save('classes.npy', encoder.classes_)"
   ]
  },
  {
   "cell_type": "markdown",
   "metadata": {},
   "source": [
    "#### This is used to test the endpoint by sending request from test.txt"
   ]
  },
  {
   "cell_type": "code",
   "execution_count": null,
   "metadata": {},
   "outputs": [],
   "source": [
    "import requests\n",
    "\n",
    "with open('test.txt', 'rb') as f:\n",
    "    r = requests.post('https://reddit-flare-detector.herokuapp.com/automated_testing', files={'test.txt': f})\n",
    "    a = r.json()\n",
    "    print(a)"
   ]
  },
  {
   "cell_type": "code",
   "execution_count": null,
   "metadata": {},
   "outputs": [],
   "source": []
  }
 ],
 "metadata": {
  "kernelspec": {
   "display_name": "Python 3",
   "language": "python",
   "name": "python3"
  },
  "language_info": {
   "codemirror_mode": {
    "name": "ipython",
    "version": 3
   },
   "file_extension": ".py",
   "mimetype": "text/x-python",
   "name": "python",
   "nbconvert_exporter": "python",
   "pygments_lexer": "ipython3",
   "version": "3.7.4"
  }
 },
 "nbformat": 4,
 "nbformat_minor": 4
}
